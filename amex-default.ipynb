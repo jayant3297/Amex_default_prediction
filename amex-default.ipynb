{
 "cells": [
  {
   "cell_type": "code",
   "execution_count": 1,
   "id": "5b912c51",
   "metadata": {
    "_cell_guid": "b1076dfc-b9ad-4769-8c92-a6c4dae69d19",
    "_uuid": "8f2839f25d086af736a60e9eeb907d3b93b6e0e5",
    "execution": {
     "iopub.execute_input": "2023-01-02T04:59:03.054495Z",
     "iopub.status.busy": "2023-01-02T04:59:03.053435Z",
     "iopub.status.idle": "2023-01-02T04:59:03.070407Z",
     "shell.execute_reply": "2023-01-02T04:59:03.069116Z"
    },
    "papermill": {
     "duration": 0.043344,
     "end_time": "2023-01-02T04:59:03.073827",
     "exception": false,
     "start_time": "2023-01-02T04:59:03.030483",
     "status": "completed"
    },
    "tags": []
   },
   "outputs": [
    {
     "name": "stdout",
     "output_type": "stream",
     "text": [
      "/kaggle/input/amex-default-prediction/sample_submission.csv\n",
      "/kaggle/input/amex-default-prediction/train_data.csv\n",
      "/kaggle/input/amex-default-prediction/test_data.csv\n",
      "/kaggle/input/amex-default-prediction/train_labels.csv\n"
     ]
    }
   ],
   "source": [
    "# This Python 3 environment comes with many helpful analytics libraries installed\n",
    "# It is defined by the kaggle/python Docker image: https://github.com/kaggle/docker-python\n",
    "# For example, here's several helpful packages to load\n",
    "\n",
    "import numpy as np # linear algebra\n",
    "import pandas as pd # data processing, CSV file I/O (e.g. pd.read_csv)\n",
    "\n",
    "# Input data files are available in the read-only \"../input/\" directory\n",
    "# For example, running this (by clicking run or pressing Shift+Enter) will list all files under the input directory\n",
    "\n",
    "import os\n",
    "for dirname, _, filenames in os.walk('/kaggle/input'):\n",
    "    for filename in filenames:\n",
    "        print(os.path.join(dirname, filename))\n",
    "\n",
    "# You can write up to 20GB to the current directory (/kaggle/working/) that gets preserved as output when you create a version using \"Save & Run All\" \n",
    "# You can also write temporary files to /kaggle/temp/, but they won't be saved outside of the current session"
   ]
  },
  {
   "cell_type": "code",
   "execution_count": 2,
   "id": "c60d0784",
   "metadata": {
    "execution": {
     "iopub.execute_input": "2023-01-02T04:59:03.102640Z",
     "iopub.status.busy": "2023-01-02T04:59:03.101695Z",
     "iopub.status.idle": "2023-01-02T04:59:50.582926Z",
     "shell.execute_reply": "2023-01-02T04:59:50.581361Z"
    },
    "papermill": {
     "duration": 47.50046,
     "end_time": "2023-01-02T04:59:50.586379",
     "exception": false,
     "start_time": "2023-01-02T04:59:03.085919",
     "status": "completed"
    },
    "tags": []
   },
   "outputs": [
    {
     "name": "stdout",
     "output_type": "stream",
     "text": [
      "Collecting pyspark\r\n",
      "  Downloading pyspark-3.3.1.tar.gz (281.4 MB)\r\n",
      "\u001b[2K     \u001b[90m━━━━━━━━━━━━━━━━━━━━━━━━━━━━━━━━━━━━━━━\u001b[0m \u001b[32m281.4/281.4 MB\u001b[0m \u001b[31m3.9 MB/s\u001b[0m eta \u001b[36m0:00:00\u001b[0m\r\n",
      "\u001b[?25h  Preparing metadata (setup.py) ... \u001b[?25l-\b \bdone\r\n",
      "\u001b[?25hCollecting py4j==0.10.9.5\r\n",
      "  Downloading py4j-0.10.9.5-py2.py3-none-any.whl (199 kB)\r\n",
      "\u001b[2K     \u001b[90m━━━━━━━━━━━━━━━━━━━━━━━━━━━━━━━━━━━━━━\u001b[0m \u001b[32m199.7/199.7 kB\u001b[0m \u001b[31m16.3 MB/s\u001b[0m eta \u001b[36m0:00:00\u001b[0m\r\n",
      "\u001b[?25hBuilding wheels for collected packages: pyspark\r\n",
      "  Building wheel for pyspark (setup.py) ... \u001b[?25l-\b \b\\\b \b|\b \b/\b \b-\b \b\\\b \b|\b \b/\b \b-\b \b\\\b \b|\b \b/\b \b-\b \b\\\b \b|\b \b/\b \b-\b \b\\\b \b|\b \b/\b \b-\b \b\\\b \b|\b \b/\b \b-\b \b\\\b \b|\b \b/\b \b-\b \b\\\b \b|\b \b/\b \b-\b \b\\\b \b|\b \b/\b \b-\b \b\\\b \b|\b \b/\b \b-\b \b\\\b \b|\b \b/\b \b-\b \b\\\b \b|\b \b/\b \b-\b \b\\\b \b|\b \b/\b \b-\b \b\\\b \b|\b \b/\b \b-\b \b\\\b \b|\b \b/\b \bdone\r\n",
      "\u001b[?25h  Created wheel for pyspark: filename=pyspark-3.3.1-py2.py3-none-any.whl size=281845513 sha256=d5040f4dab2bb51b60ee3b91eda75b7d07e25eb027d4055937148f40e04c8197\r\n",
      "  Stored in directory: /root/.cache/pip/wheels/42/59/f5/79a5bf931714dcd201b26025347785f087370a10a3329a899c\r\n",
      "Successfully built pyspark\r\n",
      "Installing collected packages: py4j, pyspark\r\n",
      "  Attempting uninstall: py4j\r\n",
      "    Found existing installation: py4j 0.10.9.7\r\n",
      "    Uninstalling py4j-0.10.9.7:\r\n",
      "      Successfully uninstalled py4j-0.10.9.7\r\n",
      "Successfully installed py4j-0.10.9.5 pyspark-3.3.1\r\n",
      "\u001b[33mWARNING: Running pip as the 'root' user can result in broken permissions and conflicting behaviour with the system package manager. It is recommended to use a virtual environment instead: https://pip.pypa.io/warnings/venv\u001b[0m\u001b[33m\r\n",
      "\u001b[0m"
     ]
    }
   ],
   "source": [
    "!pip3 install pyspark"
   ]
  },
  {
   "cell_type": "code",
   "execution_count": 3,
   "id": "5147cd54",
   "metadata": {
    "execution": {
     "iopub.execute_input": "2023-01-02T04:59:50.633490Z",
     "iopub.status.busy": "2023-01-02T04:59:50.632722Z",
     "iopub.status.idle": "2023-01-02T04:59:50.701936Z",
     "shell.execute_reply": "2023-01-02T04:59:50.700460Z"
    },
    "papermill": {
     "duration": 0.096171,
     "end_time": "2023-01-02T04:59:50.705362",
     "exception": false,
     "start_time": "2023-01-02T04:59:50.609191",
     "status": "completed"
    },
    "tags": []
   },
   "outputs": [],
   "source": [
    "import pyspark\n",
    "import pyspark.sql.functions as F\n",
    "import pyspark.sql.types\n",
    "from pyspark.sql import SparkSession\n",
    "from pyspark.sql import SQLContext"
   ]
  },
  {
   "cell_type": "code",
   "execution_count": 4,
   "id": "0b60ee0e",
   "metadata": {
    "execution": {
     "iopub.execute_input": "2023-01-02T04:59:50.751034Z",
     "iopub.status.busy": "2023-01-02T04:59:50.750579Z",
     "iopub.status.idle": "2023-01-02T04:59:56.541480Z",
     "shell.execute_reply": "2023-01-02T04:59:56.539863Z"
    },
    "papermill": {
     "duration": 5.817892,
     "end_time": "2023-01-02T04:59:56.545246",
     "exception": false,
     "start_time": "2023-01-02T04:59:50.727354",
     "status": "completed"
    },
    "tags": []
   },
   "outputs": [
    {
     "name": "stderr",
     "output_type": "stream",
     "text": [
      "Setting default log level to \"WARN\".\n",
      "To adjust logging level use sc.setLogLevel(newLevel). For SparkR, use setLogLevel(newLevel).\n"
     ]
    },
    {
     "name": "stdout",
     "output_type": "stream",
     "text": [
      "23/01/02 04:59:54 WARN NativeCodeLoader: Unable to load native-hadoop library for your platform... using builtin-java classes where applicable\n"
     ]
    }
   ],
   "source": [
    "spark = (SparkSession.builder.master(\"local[*]\")\n",
    "                    .config(\"spark.driver.memory\",\"16g\")\n",
    "                    .config(\"spark.sql.shuffle.partitions\",200)\n",
    "                    .appName('Amex_Default')\n",
    "                    .master('local')\n",
    "                    .getOrCreate())"
   ]
  },
  {
   "cell_type": "code",
   "execution_count": 5,
   "id": "d52205f4",
   "metadata": {
    "execution": {
     "iopub.execute_input": "2023-01-02T04:59:56.591110Z",
     "iopub.status.busy": "2023-01-02T04:59:56.590668Z",
     "iopub.status.idle": "2023-01-02T04:59:56.596483Z",
     "shell.execute_reply": "2023-01-02T04:59:56.595289Z"
    },
    "papermill": {
     "duration": 0.031308,
     "end_time": "2023-01-02T04:59:56.598869",
     "exception": false,
     "start_time": "2023-01-02T04:59:56.567561",
     "status": "completed"
    },
    "tags": []
   },
   "outputs": [],
   "source": [
    "train_path = \"../input/amex-default-prediction/train_data.csv\"\n",
    "test_path = \"../input/amex-default-prediction/test_data.csv\"\n",
    "label_path = \"../input/amex-default-prediction/train_labels.csv\""
   ]
  },
  {
   "cell_type": "code",
   "execution_count": 6,
   "id": "a34f896c",
   "metadata": {
    "execution": {
     "iopub.execute_input": "2023-01-02T04:59:56.644181Z",
     "iopub.status.busy": "2023-01-02T04:59:56.643747Z",
     "iopub.status.idle": "2023-01-02T05:00:04.448557Z",
     "shell.execute_reply": "2023-01-02T05:00:04.447291Z"
    },
    "papermill": {
     "duration": 7.831879,
     "end_time": "2023-01-02T05:00:04.452288",
     "exception": false,
     "start_time": "2023-01-02T04:59:56.620409",
     "status": "completed"
    },
    "tags": []
   },
   "outputs": [],
   "source": [
    "train_df = spark.read.options(header='True',  delimiter=',').csv(train_path)\n",
    "test_df = spark.read.options(header='True', delimiter=',').csv(test_path)\n",
    "label_df = spark.read.options(header='True', delimiter=',').csv(label_path)"
   ]
  },
  {
   "cell_type": "code",
   "execution_count": 7,
   "id": "5537aa14",
   "metadata": {
    "execution": {
     "iopub.execute_input": "2023-01-02T05:00:04.503415Z",
     "iopub.status.busy": "2023-01-02T05:00:04.502954Z",
     "iopub.status.idle": "2023-01-02T05:00:04.530649Z",
     "shell.execute_reply": "2023-01-02T05:00:04.529375Z"
    },
    "papermill": {
     "duration": 0.056694,
     "end_time": "2023-01-02T05:00:04.535401",
     "exception": false,
     "start_time": "2023-01-02T05:00:04.478707",
     "status": "completed"
    },
    "tags": []
   },
   "outputs": [
    {
     "name": "stdout",
     "output_type": "stream",
     "text": [
      "root\n",
      " |-- customer_ID: string (nullable = true)\n",
      " |-- S_2: string (nullable = true)\n",
      " |-- P_2: string (nullable = true)\n",
      " |-- D_39: string (nullable = true)\n",
      " |-- B_1: string (nullable = true)\n",
      " |-- B_2: string (nullable = true)\n",
      " |-- R_1: string (nullable = true)\n",
      " |-- S_3: string (nullable = true)\n",
      " |-- D_41: string (nullable = true)\n",
      " |-- B_3: string (nullable = true)\n",
      " |-- D_42: string (nullable = true)\n",
      " |-- D_43: string (nullable = true)\n",
      " |-- D_44: string (nullable = true)\n",
      " |-- B_4: string (nullable = true)\n",
      " |-- D_45: string (nullable = true)\n",
      " |-- B_5: string (nullable = true)\n",
      " |-- R_2: string (nullable = true)\n",
      " |-- D_46: string (nullable = true)\n",
      " |-- D_47: string (nullable = true)\n",
      " |-- D_48: string (nullable = true)\n",
      " |-- D_49: string (nullable = true)\n",
      " |-- B_6: string (nullable = true)\n",
      " |-- B_7: string (nullable = true)\n",
      " |-- B_8: string (nullable = true)\n",
      " |-- D_50: string (nullable = true)\n",
      " |-- D_51: string (nullable = true)\n",
      " |-- B_9: string (nullable = true)\n",
      " |-- R_3: string (nullable = true)\n",
      " |-- D_52: string (nullable = true)\n",
      " |-- P_3: string (nullable = true)\n",
      " |-- B_10: string (nullable = true)\n",
      " |-- D_53: string (nullable = true)\n",
      " |-- S_5: string (nullable = true)\n",
      " |-- B_11: string (nullable = true)\n",
      " |-- S_6: string (nullable = true)\n",
      " |-- D_54: string (nullable = true)\n",
      " |-- R_4: string (nullable = true)\n",
      " |-- S_7: string (nullable = true)\n",
      " |-- B_12: string (nullable = true)\n",
      " |-- S_8: string (nullable = true)\n",
      " |-- D_55: string (nullable = true)\n",
      " |-- D_56: string (nullable = true)\n",
      " |-- B_13: string (nullable = true)\n",
      " |-- R_5: string (nullable = true)\n",
      " |-- D_58: string (nullable = true)\n",
      " |-- S_9: string (nullable = true)\n",
      " |-- B_14: string (nullable = true)\n",
      " |-- D_59: string (nullable = true)\n",
      " |-- D_60: string (nullable = true)\n",
      " |-- D_61: string (nullable = true)\n",
      " |-- B_15: string (nullable = true)\n",
      " |-- S_11: string (nullable = true)\n",
      " |-- D_62: string (nullable = true)\n",
      " |-- D_63: string (nullable = true)\n",
      " |-- D_64: string (nullable = true)\n",
      " |-- D_65: string (nullable = true)\n",
      " |-- B_16: string (nullable = true)\n",
      " |-- B_17: string (nullable = true)\n",
      " |-- B_18: string (nullable = true)\n",
      " |-- B_19: string (nullable = true)\n",
      " |-- D_66: string (nullable = true)\n",
      " |-- B_20: string (nullable = true)\n",
      " |-- D_68: string (nullable = true)\n",
      " |-- S_12: string (nullable = true)\n",
      " |-- R_6: string (nullable = true)\n",
      " |-- S_13: string (nullable = true)\n",
      " |-- B_21: string (nullable = true)\n",
      " |-- D_69: string (nullable = true)\n",
      " |-- B_22: string (nullable = true)\n",
      " |-- D_70: string (nullable = true)\n",
      " |-- D_71: string (nullable = true)\n",
      " |-- D_72: string (nullable = true)\n",
      " |-- S_15: string (nullable = true)\n",
      " |-- B_23: string (nullable = true)\n",
      " |-- D_73: string (nullable = true)\n",
      " |-- P_4: string (nullable = true)\n",
      " |-- D_74: string (nullable = true)\n",
      " |-- D_75: string (nullable = true)\n",
      " |-- D_76: string (nullable = true)\n",
      " |-- B_24: string (nullable = true)\n",
      " |-- R_7: string (nullable = true)\n",
      " |-- D_77: string (nullable = true)\n",
      " |-- B_25: string (nullable = true)\n",
      " |-- B_26: string (nullable = true)\n",
      " |-- D_78: string (nullable = true)\n",
      " |-- D_79: string (nullable = true)\n",
      " |-- R_8: string (nullable = true)\n",
      " |-- R_9: string (nullable = true)\n",
      " |-- S_16: string (nullable = true)\n",
      " |-- D_80: string (nullable = true)\n",
      " |-- R_10: string (nullable = true)\n",
      " |-- R_11: string (nullable = true)\n",
      " |-- B_27: string (nullable = true)\n",
      " |-- D_81: string (nullable = true)\n",
      " |-- D_82: string (nullable = true)\n",
      " |-- S_17: string (nullable = true)\n",
      " |-- R_12: string (nullable = true)\n",
      " |-- B_28: string (nullable = true)\n",
      " |-- R_13: string (nullable = true)\n",
      " |-- D_83: string (nullable = true)\n",
      " |-- R_14: string (nullable = true)\n",
      " |-- R_15: string (nullable = true)\n",
      " |-- D_84: string (nullable = true)\n",
      " |-- R_16: string (nullable = true)\n",
      " |-- B_29: string (nullable = true)\n",
      " |-- B_30: string (nullable = true)\n",
      " |-- S_18: string (nullable = true)\n",
      " |-- D_86: string (nullable = true)\n",
      " |-- D_87: string (nullable = true)\n",
      " |-- R_17: string (nullable = true)\n",
      " |-- R_18: string (nullable = true)\n",
      " |-- D_88: string (nullable = true)\n",
      " |-- B_31: string (nullable = true)\n",
      " |-- S_19: string (nullable = true)\n",
      " |-- R_19: string (nullable = true)\n",
      " |-- B_32: string (nullable = true)\n",
      " |-- S_20: string (nullable = true)\n",
      " |-- R_20: string (nullable = true)\n",
      " |-- R_21: string (nullable = true)\n",
      " |-- B_33: string (nullable = true)\n",
      " |-- D_89: string (nullable = true)\n",
      " |-- R_22: string (nullable = true)\n",
      " |-- R_23: string (nullable = true)\n",
      " |-- D_91: string (nullable = true)\n",
      " |-- D_92: string (nullable = true)\n",
      " |-- D_93: string (nullable = true)\n",
      " |-- D_94: string (nullable = true)\n",
      " |-- R_24: string (nullable = true)\n",
      " |-- R_25: string (nullable = true)\n",
      " |-- D_96: string (nullable = true)\n",
      " |-- S_22: string (nullable = true)\n",
      " |-- S_23: string (nullable = true)\n",
      " |-- S_24: string (nullable = true)\n",
      " |-- S_25: string (nullable = true)\n",
      " |-- S_26: string (nullable = true)\n",
      " |-- D_102: string (nullable = true)\n",
      " |-- D_103: string (nullable = true)\n",
      " |-- D_104: string (nullable = true)\n",
      " |-- D_105: string (nullable = true)\n",
      " |-- D_106: string (nullable = true)\n",
      " |-- D_107: string (nullable = true)\n",
      " |-- B_36: string (nullable = true)\n",
      " |-- B_37: string (nullable = true)\n",
      " |-- R_26: string (nullable = true)\n",
      " |-- R_27: string (nullable = true)\n",
      " |-- B_38: string (nullable = true)\n",
      " |-- D_108: string (nullable = true)\n",
      " |-- D_109: string (nullable = true)\n",
      " |-- D_110: string (nullable = true)\n",
      " |-- D_111: string (nullable = true)\n",
      " |-- B_39: string (nullable = true)\n",
      " |-- D_112: string (nullable = true)\n",
      " |-- B_40: string (nullable = true)\n",
      " |-- S_27: string (nullable = true)\n",
      " |-- D_113: string (nullable = true)\n",
      " |-- D_114: string (nullable = true)\n",
      " |-- D_115: string (nullable = true)\n",
      " |-- D_116: string (nullable = true)\n",
      " |-- D_117: string (nullable = true)\n",
      " |-- D_118: string (nullable = true)\n",
      " |-- D_119: string (nullable = true)\n",
      " |-- D_120: string (nullable = true)\n",
      " |-- D_121: string (nullable = true)\n",
      " |-- D_122: string (nullable = true)\n",
      " |-- D_123: string (nullable = true)\n",
      " |-- D_124: string (nullable = true)\n",
      " |-- D_125: string (nullable = true)\n",
      " |-- D_126: string (nullable = true)\n",
      " |-- D_127: string (nullable = true)\n",
      " |-- D_128: string (nullable = true)\n",
      " |-- D_129: string (nullable = true)\n",
      " |-- B_41: string (nullable = true)\n",
      " |-- B_42: string (nullable = true)\n",
      " |-- D_130: string (nullable = true)\n",
      " |-- D_131: string (nullable = true)\n",
      " |-- D_132: string (nullable = true)\n",
      " |-- D_133: string (nullable = true)\n",
      " |-- R_28: string (nullable = true)\n",
      " |-- D_134: string (nullable = true)\n",
      " |-- D_135: string (nullable = true)\n",
      " |-- D_136: string (nullable = true)\n",
      " |-- D_137: string (nullable = true)\n",
      " |-- D_138: string (nullable = true)\n",
      " |-- D_139: string (nullable = true)\n",
      " |-- D_140: string (nullable = true)\n",
      " |-- D_141: string (nullable = true)\n",
      " |-- D_142: string (nullable = true)\n",
      " |-- D_143: string (nullable = true)\n",
      " |-- D_144: string (nullable = true)\n",
      " |-- D_145: string (nullable = true)\n",
      "\n"
     ]
    }
   ],
   "source": [
    "train_df.printSchema()"
   ]
  },
  {
   "cell_type": "code",
   "execution_count": 8,
   "id": "d9bf14f3",
   "metadata": {
    "execution": {
     "iopub.execute_input": "2023-01-02T05:00:04.593593Z",
     "iopub.status.busy": "2023-01-02T05:00:04.592571Z",
     "iopub.status.idle": "2023-01-02T05:03:34.032529Z",
     "shell.execute_reply": "2023-01-02T05:03:34.030908Z"
    },
    "papermill": {
     "duration": 209.477038,
     "end_time": "2023-01-02T05:03:34.036537",
     "exception": false,
     "start_time": "2023-01-02T05:00:04.559499",
     "status": "completed"
    },
    "tags": []
   },
   "outputs": [
    {
     "name": "stderr",
     "output_type": "stream",
     "text": [
      "[Stage 3:======================================================>(122 + 1) / 123]\r"
     ]
    },
    {
     "name": "stdout",
     "output_type": "stream",
     "text": [
      "5531451\n"
     ]
    },
    {
     "name": "stderr",
     "output_type": "stream",
     "text": [
      "                                                                                \r"
     ]
    }
   ],
   "source": [
    "print(train_df.count())"
   ]
  },
  {
   "cell_type": "code",
   "execution_count": 9,
   "id": "a9c44d11",
   "metadata": {
    "execution": {
     "iopub.execute_input": "2023-01-02T05:03:34.107976Z",
     "iopub.status.busy": "2023-01-02T05:03:34.107416Z",
     "iopub.status.idle": "2023-01-02T05:03:34.198719Z",
     "shell.execute_reply": "2023-01-02T05:03:34.196949Z"
    },
    "papermill": {
     "duration": 0.125201,
     "end_time": "2023-01-02T05:03:34.201421",
     "exception": false,
     "start_time": "2023-01-02T05:03:34.076220",
     "status": "completed"
    },
    "tags": []
   },
   "outputs": [
    {
     "name": "stdout",
     "output_type": "stream",
     "text": [
      "190\n"
     ]
    }
   ],
   "source": [
    "print(len(train_df.columns))"
   ]
  },
  {
   "cell_type": "code",
   "execution_count": 10,
   "id": "ec96843a",
   "metadata": {
    "execution": {
     "iopub.execute_input": "2023-01-02T05:03:34.265079Z",
     "iopub.status.busy": "2023-01-02T05:03:34.263644Z",
     "iopub.status.idle": "2023-01-02T05:03:34.478777Z",
     "shell.execute_reply": "2023-01-02T05:03:34.477408Z"
    },
    "papermill": {
     "duration": 0.252346,
     "end_time": "2023-01-02T05:03:34.484244",
     "exception": false,
     "start_time": "2023-01-02T05:03:34.231898",
     "status": "completed"
    },
    "tags": []
   },
   "outputs": [
    {
     "name": "stdout",
     "output_type": "stream",
     "text": [
      "+--------------------+\n",
      "|         customer_ID|\n",
      "+--------------------+\n",
      "|0000099d6bd597052...|\n",
      "|0000099d6bd597052...|\n",
      "|0000099d6bd597052...|\n",
      "|0000099d6bd597052...|\n",
      "|0000099d6bd597052...|\n",
      "|0000099d6bd597052...|\n",
      "|0000099d6bd597052...|\n",
      "|0000099d6bd597052...|\n",
      "|0000099d6bd597052...|\n",
      "|0000099d6bd597052...|\n",
      "|0000099d6bd597052...|\n",
      "|0000099d6bd597052...|\n",
      "|0000099d6bd597052...|\n",
      "|00000fd6641609c6e...|\n",
      "|00000fd6641609c6e...|\n",
      "|00000fd6641609c6e...|\n",
      "|00000fd6641609c6e...|\n",
      "|00000fd6641609c6e...|\n",
      "|00000fd6641609c6e...|\n",
      "|00000fd6641609c6e...|\n",
      "+--------------------+\n",
      "only showing top 20 rows\n",
      "\n"
     ]
    }
   ],
   "source": [
    "train_df.select('customer_ID').show()"
   ]
  },
  {
   "cell_type": "code",
   "execution_count": 11,
   "id": "5efcfe98",
   "metadata": {
    "execution": {
     "iopub.execute_input": "2023-01-02T05:03:34.554355Z",
     "iopub.status.busy": "2023-01-02T05:03:34.553112Z",
     "iopub.status.idle": "2023-01-02T05:03:35.405669Z",
     "shell.execute_reply": "2023-01-02T05:03:35.404451Z"
    },
    "papermill": {
     "duration": 0.890977,
     "end_time": "2023-01-02T05:03:35.411513",
     "exception": false,
     "start_time": "2023-01-02T05:03:34.520536",
     "status": "completed"
    },
    "tags": []
   },
   "outputs": [
    {
     "name": "stdout",
     "output_type": "stream",
     "text": [
      "23/01/02 05:03:34 WARN package: Truncated the string representation of a plan since it was too large. This behavior can be adjusted by setting 'spark.sql.debug.maxToStringFields'.\n",
      "-RECORD 0---------------------------\n",
      " customer_ID | 0000099d6bd597052... \n",
      " S_2         | 2017-03-09           \n",
      " P_2         | 0.9384687191272548   \n",
      " D_39        | 0.0017333390041739   \n",
      " B_1         | 0.0087244509498605   \n",
      " B_2         | 1.0068382339663076   \n",
      " R_1         | 0.0092277222786689   \n",
      " S_3         | 0.1240351558143743   \n",
      " D_41        | 0.0087711319938824   \n",
      " B_3         | 0.0047092406313857   \n",
      " D_42        | null                 \n",
      " D_43        | null                 \n",
      " D_44        | 0.000630134804911503 \n",
      " B_4         | 0.0809863324662527   \n",
      " D_45        | 0.708906305121159    \n",
      " B_5         | 0.1706002293387026   \n",
      " R_2         | 0.0062040314303209   \n",
      " D_46        | 0.3585865793715965   \n",
      " D_47        | 0.525351040810055    \n",
      " D_48        | 0.255736073902975    \n",
      " D_49        | null                 \n",
      " B_6         | 0.0639022133803909   \n",
      " B_7         | 0.0594157330614109   \n",
      " B_8         | 0.006465576798311    \n",
      " D_50        | 0.1486979558199995   \n",
      " D_51        | 1.3358557940752642   \n",
      " B_9         | 0.0082067391252636   \n",
      " R_3         | 0.0014225021561254   \n",
      " D_52        | 0.2073338786110817   \n",
      " P_3         | 0.7364627260945562   \n",
      " B_10        | 0.0962188066642168   \n",
      " D_53        | null                 \n",
      " S_5         | 0.0233811220509184   \n",
      " B_11        | 0.0027680616648439   \n",
      " S_6         | 0.0083216461012018   \n",
      " D_54        | 1.0015189798143298   \n",
      " R_4         | 0.0082984353659013   \n",
      " S_7         | 0.1613448213392926   \n",
      " B_12        | 0.1482660660500143   \n",
      " S_8         | 0.9229980580065352   \n",
      " D_55        | 0.3545960121121521   \n",
      " D_56        | 0.1520252359421985   \n",
      " B_13        | 0.1180751287426555   \n",
      " R_5         | 0.0018817935511477   \n",
      " D_58        | 0.1586119472568195   \n",
      " S_9         | 0.0657283519446441   \n",
      " B_14        | 0.0183846187932046   \n",
      " D_59        | 0.0636464650207709   \n",
      " D_60        | 0.1996170060523628   \n",
      " D_61        | 0.3082332671932175   \n",
      " B_15        | 0.0163605749523169   \n",
      " S_11        | 0.4016185802789523   \n",
      " D_62        | 0.0910710227007408   \n",
      " D_63        | CR                   \n",
      " D_64        | O                    \n",
      " D_65        | 0.0071261626629251   \n",
      " B_16        | 0.0076652663969786   \n",
      " B_17        | null                 \n",
      " B_18        | 0.6529844592667966   \n",
      " B_19        | 0.0085204395338161   \n",
      " D_66        | null                 \n",
      " B_20        | 0.0047298254668822   \n",
      " D_68        | 6.0                  \n",
      " S_12        | 0.2720075971997457   \n",
      " R_6         | 0.0083625394520617   \n",
      " S_13        | 0.5152220997956324   \n",
      " B_21        | 0.0026440261651032   \n",
      " D_69        | 0.0090132990688123   \n",
      " B_22        | 0.0048075108615107   \n",
      " D_70        | 0.0083417214056279   \n",
      " D_71        | 0.1194032063292035   \n",
      " D_72        | 0.0048019001810845   \n",
      " S_15        | 0.1082711171267683   \n",
      " B_23        | 0.0508818502912816   \n",
      " D_73        | null                 \n",
      " P_4         | 0.0075544326681996   \n",
      " D_74        | 0.080421566162112    \n",
      " D_75        | 0.0690667888767042   \n",
      " D_76        | null                 \n",
      " B_24        | 0.0043267862651661   \n",
      " R_7         | 0.0075624451853513   \n",
      " D_77        | null                 \n",
      " B_25        | 0.0077286495261238   \n",
      " B_26        | 0.000271827974982... \n",
      " D_78        | 0.0015757362087887   \n",
      " D_79        | 0.0042393583697225   \n",
      " R_8         | 0.0014339887242707   \n",
      " R_9         | null                 \n",
      " S_16        | 0.0022709373260069   \n",
      " D_80        | 0.0040605235125132   \n",
      " R_10        | 0.0071210854061951   \n",
      " R_11        | 0.002456064794035    \n",
      " B_27        | 0.0023102973905819   \n",
      " D_81        | 0.0035319799108632   \n",
      " D_82        | 0.5066123435845971   \n",
      " S_17        | 0.0080330227771146   \n",
      " R_12        | 1.009824656823971    \n",
      " B_28        | 0.0846826103877939   \n",
      " R_13        | 0.0038199826554652   \n",
      " D_83        | 0.0070426005114811   \n",
      " R_14        | 0.000437955377368... \n",
      " R_15        | 0.0064516292630606   \n",
      " D_84        | 0.000829519960745... \n",
      " R_16        | 0.0050548740773288   \n",
      " B_29        | null                 \n",
      " B_30        | 0.0                  \n",
      " S_18        | 0.0057204248912407   \n",
      " D_86        | 0.0070844713819911   \n",
      " D_87        | null                 \n",
      " R_17        | 0.000198307557336... \n",
      " R_18        | 0.0089074082880877   \n",
      " D_88        | null                 \n",
      " B_31        | 1                    \n",
      " S_19        | 0.0025372094454532   \n",
      " R_19        | 0.0051773628715763   \n",
      " B_32        | 0.0066261799942368   \n",
      " S_20        | 0.0097051381766323   \n",
      " R_20        | 0.0077815946151323   \n",
      " R_21        | 0.0024499555060629   \n",
      " B_33        | 1.001101015728843    \n",
      " D_89        | 0.0026653338683884   \n",
      " R_22        | 0.0074787553627031   \n",
      " R_23        | 0.0068928102215877   \n",
      " D_91        | 1.5036730085591934   \n",
      " D_92        | 1.0061334814309375   \n",
      " D_93        | 0.0035685409054337   \n",
      " D_94        | 0.0088705929060406   \n",
      " R_24        | 0.0039497309957728   \n",
      " R_25        | 0.0036471404974304   \n",
      " D_96        | 0.0049500294348479   \n",
      " S_22        | 0.894089695605709    \n",
      " S_23        | 0.1355608144319887   \n",
      " S_24        | 0.911191467097734    \n",
      " S_25        | 0.9745386181290052   \n",
      " S_26        | 0.0012434034603863   \n",
      " D_102       | 0.766688198411884    \n",
      " D_103       | 1.0086908650957052   \n",
      " D_104       | 1.0045868810535166   \n",
      " D_105       | 0.8937341348828729   \n",
      " D_106       | null                 \n",
      " D_107       | 0.6700407818908409   \n",
      " B_36        | 0.0099684820571253   \n",
      " B_37        | 0.0045716082173905   \n",
      " R_26        | null                 \n",
      " R_27        | 1.0089487592265078   \n",
      " B_38        | 2.0                  \n",
      " D_108       | null                 \n",
      " D_109       | 0.0043255295479554   \n",
      " D_110       | null                 \n",
      " D_111       | null                 \n",
      " B_39        | null                 \n",
      " D_112       | 1.0073363113714342   \n",
      " B_40        | 0.2100604304228718   \n",
      " S_27        | 0.6769221837463869   \n",
      " D_113       | 0.0078711392893406   \n",
      " D_114       | 1.0                  \n",
      " D_115       | 0.2382502144880312   \n",
      " D_116       | 0.0                  \n",
      " D_117       | 4.0                  \n",
      " D_118       | 0.232119945685299    \n",
      " D_119       | 0.236265664141208    \n",
      " D_120       | 0.0                  \n",
      " D_121       | 0.7022801580459578   \n",
      " D_122       | 0.4343448084924443   \n",
      " D_123       | 0.0030567005507437   \n",
      " D_124       | 0.68651647907618     \n",
      " D_125       | 0.0087397192234583   \n",
      " D_126       | 1.0                  \n",
      " D_127       | 1.0033190016918123   \n",
      " D_128       | 1.007818575883756    \n",
      " D_129       | 1.0000799619453766   \n",
      " B_41        | 0.0068049737160723   \n",
      " B_42        | null                 \n",
      " D_130       | 0.0020516861203601   \n",
      " D_131       | 0.0059718815442907   \n",
      " D_132       | null                 \n",
      " D_133       | 0.0043450594318488   \n",
      " R_28        | 0.0015347274225173   \n",
      " D_134       | null                 \n",
      " D_135       | null                 \n",
      " D_136       | null                 \n",
      " D_137       | null                 \n",
      " D_138       | null                 \n",
      " D_139       | 0.0024270377979392   \n",
      " D_140       | 0.0037062723407666   \n",
      " D_141       | 0.0038178202065345   \n",
      " D_142       | null                 \n",
      " D_143       | 0.000569239560733... \n",
      " D_144       | 0.000609837070308... \n",
      " D_145       | 0.0026742140504133   \n",
      "only showing top 1 row\n",
      "\n"
     ]
    }
   ],
   "source": [
    "train_df.show(1, vertical=True)"
   ]
  },
  {
   "cell_type": "code",
   "execution_count": 12,
   "id": "1410d168",
   "metadata": {
    "execution": {
     "iopub.execute_input": "2023-01-02T05:03:35.478287Z",
     "iopub.status.busy": "2023-01-02T05:03:35.477878Z",
     "iopub.status.idle": "2023-01-02T05:03:35.611644Z",
     "shell.execute_reply": "2023-01-02T05:03:35.609998Z"
    },
    "papermill": {
     "duration": 0.169608,
     "end_time": "2023-01-02T05:03:35.615009",
     "exception": false,
     "start_time": "2023-01-02T05:03:35.445401",
     "status": "completed"
    },
    "tags": []
   },
   "outputs": [
    {
     "name": "stdout",
     "output_type": "stream",
     "text": [
      "-RECORD 0---------------------------\n",
      " customer_ID | 0000099d6bd597052... \n",
      " target      | 0                    \n",
      "only showing top 1 row\n",
      "\n"
     ]
    }
   ],
   "source": [
    "label_df.show(1, vertical=True)"
   ]
  },
  {
   "cell_type": "code",
   "execution_count": 13,
   "id": "2b368433",
   "metadata": {
    "execution": {
     "iopub.execute_input": "2023-01-02T05:03:35.678724Z",
     "iopub.status.busy": "2023-01-02T05:03:35.678288Z",
     "iopub.status.idle": "2023-01-02T05:05:06.147651Z",
     "shell.execute_reply": "2023-01-02T05:05:06.146347Z"
    },
    "papermill": {
     "duration": 90.5072,
     "end_time": "2023-01-02T05:05:06.153412",
     "exception": false,
     "start_time": "2023-01-02T05:03:35.646212",
     "status": "completed"
    },
    "tags": []
   },
   "outputs": [
    {
     "name": "stderr",
     "output_type": "stream",
     "text": [
      "[Stage 9:======================================================>(122 + 1) / 123]\r"
     ]
    },
    {
     "name": "stdout",
     "output_type": "stream",
     "text": [
      "+--------------------+-----+\n",
      "|         customer_ID|count|\n",
      "+--------------------+-----+\n",
      "|0012e41fe6caa3ba3...|   10|\n",
      "|00582971eb87cf0bb...|   13|\n",
      "|00dbda372d97f2357...|   13|\n",
      "|00dc3b4e9f8f3b114...|   13|\n",
      "|0119d38628b2cbdd0...|   13|\n",
      "|0125e11ed5c94d63c...|   13|\n",
      "|01439ee3abf1b4552...|   13|\n",
      "|014acecc038c204f2...|    4|\n",
      "|01500e2a9f82cfab4...|   13|\n",
      "|0152860993fe1a7b1...|   13|\n",
      "|0154c4e7b3d035cff...|   13|\n",
      "|017c62c2d536df824...|   10|\n",
      "|0181b485c84ad2b52...|   13|\n",
      "|01bc5e75de384a9bc...|   13|\n",
      "|01f3396eacb7b77ba...|   13|\n",
      "|00093b69756b1afe3...|   13|\n",
      "|003491636f5638e54...|   13|\n",
      "|00d769dbf0a5e3e73...|   13|\n",
      "|01014a6e1bba3352e...|   13|\n",
      "|011716311fb15d39c...|   13|\n",
      "+--------------------+-----+\n",
      "only showing top 20 rows\n",
      "\n"
     ]
    },
    {
     "name": "stderr",
     "output_type": "stream",
     "text": [
      "                                                                                \r"
     ]
    }
   ],
   "source": [
    "train_df.groupby('customer_ID').count().show()"
   ]
  },
  {
   "cell_type": "code",
   "execution_count": 14,
   "id": "a8f376ee",
   "metadata": {
    "execution": {
     "iopub.execute_input": "2023-01-02T05:05:06.232794Z",
     "iopub.status.busy": "2023-01-02T05:05:06.232275Z",
     "iopub.status.idle": "2023-01-02T05:05:06.840037Z",
     "shell.execute_reply": "2023-01-02T05:05:06.838985Z"
    },
    "papermill": {
     "duration": 0.650432,
     "end_time": "2023-01-02T05:05:06.842731",
     "exception": false,
     "start_time": "2023-01-02T05:05:06.192299",
     "status": "completed"
    },
    "tags": []
   },
   "outputs": [
    {
     "data": {
      "text/plain": [
       "[Row(customer_ID='fffff1d38b785cef84adeace64f8f83db3a0c31e8d92eaba8b115f71cab04681', S_2='2018-03-14', P_2='0.9821748500563192', D_39='0.0024737143489931', B_1='7.693872947067027e-05', B_2='0.9928799540835922', R_1='0.0008092971779174774', S_3='0.1191649070736343', D_41='0.0032872852275932', B_3='0.0140915687516334', D_42=None, D_43='0.0134545274860418', D_44='0.0067939187376779', B_4='0.0183351337196274', D_45='0.7507839475981496', B_5='0.0066170642528045', R_2='0.0010160315706084', D_46='0.4597452584302709', D_47='0.531609965358133', D_48='0.0185772188058246', D_49=None, B_6='0.2331172373259007', B_7='0.0281845334749846', B_8='0.0079197841038872', D_50='0.0886079774332406', D_51='0.0080573884318738', B_9='0.0019762605057766', R_3='0.0050144551043305', D_52='0.2812290068419038', P_3='0.6119449599433455', B_10='0.2913446438125343', D_53=None, S_5='0.0045800485943607', B_11='0.0056537890007912', S_6='0.0056094287068511', D_54='1.0035494118469506', R_4='0.0007625988621855695', S_7='0.065466058368857', B_12='0.0280856678445185', S_8='0.0066741748763001', D_55='0.0256150474090509', D_56='0.142515552125189', B_13='0.048498384919358', R_5='0.0081118051988919', D_58='0.0167100669127547', S_9='0.0058536721475362', B_14='0.0086138202095838', D_59='0.2991383122789589', D_60='0.0231362882715743', D_61='-0.0035556034930933', B_15='0.0030007640484828', S_11='0.2804645026096339', D_62='0.0788300793504554', D_63='CL', D_64='O', D_65='0.0031683235956006', B_16='0.5838006980471033', B_17='0.0037711850883494', B_18='0.6894109700257068', B_19='0.0081680926039217', D_66=None, B_20='0.0067428650796759', D_68='5.0', S_12='0.1914952186292006', R_6='0.0096144469972664', S_13='0.0077361820534019', B_21='0.0070912931706627', D_69='0.0043875981265186', B_22='0.0087212650828019', D_70='0.2582585426858633', D_71='0.0137469039639531', D_72='0.006541857186235', S_15='0.5053291736660628', B_23='0.0179350573484084', D_73=None, P_4='0.0076736413967486', D_74='0.0803099582206312', D_75='0.0716808156711959', D_76=None, B_24='0.0059303562724381', R_7='0.0077089227424922', D_77='0.0777245490118394', B_25='0.0029184536255035', B_26='4.536697469996409e-05', D_78='0.0063745384368366', D_79='0.0002482923582878538', R_8='0.0008355659050214714', R_9=None, S_16='0.0072311400730303', D_80='0.0039009628070305', R_10='0.0041236625996544', R_11='0.0095483564413227', B_27='0.0023651712204166', D_81='0.0086074641172004', D_82='0.5018346876680847', S_17='0.0024318575326702', R_12='1.006606031069269', B_28='0.016145409416739', R_13='0.006134571134803', D_83='0.0080649935959198', R_14='0.0072378198207128', R_15='0.0067878233660496', D_84='0.0022541910967901', R_16='0.0063358177790492', B_29=None, B_30='0.0', S_18='0.0083645398117627', D_86='0.0047582195166727', D_87=None, R_17='0.0071942837041478', R_18='0.0010310329015085', D_88=None, B_31='1', S_19='0.0060328487692057', R_19='0.0062622469140491', B_32='0.0089817975655962', S_20='0.0092644008994514', R_20='0.0071545056629273', R_21='0.0059436092838948', B_33='1.0051814095740104', D_89='0.0070408394198933', R_22='0.0056706088815065', R_23='0.0082027793145136', D_91='0.0020819816056642', D_92='0.0088693333677978', D_93='0.0037365105904909', D_94='0.00014603207200235226', R_24='0.0097929494420959', R_25='0.0097119247737958', D_96='0.002199977860207', S_22='0.2952508518889702', S_23='0.1316361077380332', S_24='0.0805136972163127', S_25='0.9746900374493832', S_26='0.0053463339902873', D_102='0.0034592041694021', D_103='0.0057853752131356', D_104='0.0091006856030418', D_105=None, D_106=None, D_107='0.0005201966562935279', B_36='0.0077808982353245', B_37='0.0080042527326748', R_26=None, R_27='1.0051807374263153', B_38='3.0', D_108=None, D_109='0.0098627684625391', D_110=None, D_111=None, B_39=None, D_112='1.009680394020401', B_40='0.0517409394606565', S_27='0.0005676466247070089', D_113='0.2002055564838421', D_114='1.0', D_115='0.0375318417332648', D_116='0.0', D_117='3.0', D_118='0.0373420159845035', D_119='0.0330360268643848', D_120='0.0', D_121='0.7284183923364238', D_122='0.4297842677695974', D_123='0.0026178919744493', D_124='0.4617379985080461', D_125='0.0071048660355586', D_126='1.0', D_127='1.0023113840262654', D_128='1.0056692385992614', D_129='1.0006571092030234', B_41='0.0023920606571941', B_42=None, D_130='0.0006334598315499073', D_131='0.0013491341236607', D_132=None, D_133='0.0063115404399233', R_28='0.0054291128969551', D_134=None, D_135=None, D_136=None, D_137=None, D_138=None, D_139='0.00731645750823', D_140='0.0028877879293335', D_141='0.0062074066631061', D_142=None, D_143='0.0051103903568217', D_144='0.0031836122146507', D_145='0.001914113829247')]"
      ]
     },
     "execution_count": 14,
     "metadata": {},
     "output_type": "execute_result"
    }
   ],
   "source": [
    "train_df.tail(1)"
   ]
  },
  {
   "cell_type": "code",
   "execution_count": 15,
   "id": "46cec5c1",
   "metadata": {
    "execution": {
     "iopub.execute_input": "2023-01-02T05:05:06.922893Z",
     "iopub.status.busy": "2023-01-02T05:05:06.922171Z",
     "iopub.status.idle": "2023-01-02T05:05:07.962149Z",
     "shell.execute_reply": "2023-01-02T05:05:07.961211Z"
    },
    "papermill": {
     "duration": 1.085833,
     "end_time": "2023-01-02T05:05:07.968087",
     "exception": false,
     "start_time": "2023-01-02T05:05:06.882254",
     "status": "completed"
    },
    "tags": []
   },
   "outputs": [
    {
     "name": "stderr",
     "output_type": "stream",
     "text": [
      "[Stage 13:>                                                         (0 + 1) / 1]\r"
     ]
    },
    {
     "name": "stdout",
     "output_type": "stream",
     "text": [
      "+------+------+\n",
      "|target| count|\n",
      "+------+------+\n",
      "|     0|340085|\n",
      "|     1|118828|\n",
      "+------+------+\n",
      "\n"
     ]
    },
    {
     "name": "stderr",
     "output_type": "stream",
     "text": [
      "                                                                                \r"
     ]
    }
   ],
   "source": [
    "label_df.groupby('target').count().show()"
   ]
  },
  {
   "cell_type": "code",
   "execution_count": 16,
   "id": "f0f0e1ed",
   "metadata": {
    "execution": {
     "iopub.execute_input": "2023-01-02T05:05:08.052279Z",
     "iopub.status.busy": "2023-01-02T05:05:08.051778Z",
     "iopub.status.idle": "2023-01-02T05:05:08.182483Z",
     "shell.execute_reply": "2023-01-02T05:05:08.181176Z"
    },
    "papermill": {
     "duration": 0.174872,
     "end_time": "2023-01-02T05:05:08.185259",
     "exception": false,
     "start_time": "2023-01-02T05:05:08.010387",
     "status": "completed"
    },
    "tags": []
   },
   "outputs": [
    {
     "data": {
      "text/plain": [
       "[Row(customer_ID='0000099d6bd597052cdcda90ffabf56573fe9d7c79be5fbac11a8ed792feb62a', S_2='2017-03-09', P_2='0.9384687191272548', D_39='0.0017333390041739', B_1='0.0087244509498605', B_2='1.0068382339663076', R_1='0.0092277222786689', S_3='0.1240351558143743', D_41='0.0087711319938824', B_3='0.0047092406313857', D_42=None, D_43=None, D_44='0.000630134804911503', B_4='0.0809863324662527', D_45='0.708906305121159', B_5='0.1706002293387026', R_2='0.0062040314303209', D_46='0.3585865793715965', D_47='0.525351040810055', D_48='0.255736073902975', D_49=None, B_6='0.0639022133803909', B_7='0.0594157330614109', B_8='0.006465576798311', D_50='0.1486979558199995', D_51='1.3358557940752642', B_9='0.0082067391252636', R_3='0.0014225021561254', D_52='0.2073338786110817', P_3='0.7364627260945562', B_10='0.0962188066642168', D_53=None, S_5='0.0233811220509184', B_11='0.0027680616648439', S_6='0.0083216461012018', D_54='1.0015189798143298', R_4='0.0082984353659013', S_7='0.1613448213392926', B_12='0.1482660660500143', S_8='0.9229980580065352', D_55='0.3545960121121521', D_56='0.1520252359421985', B_13='0.1180751287426555', R_5='0.0018817935511477', D_58='0.1586119472568195', S_9='0.0657283519446441', B_14='0.0183846187932046', D_59='0.0636464650207709', D_60='0.1996170060523628', D_61='0.3082332671932175', B_15='0.0163605749523169', S_11='0.4016185802789523', D_62='0.0910710227007408', D_63='CR', D_64='O', D_65='0.0071261626629251', B_16='0.0076652663969786', B_17=None, B_18='0.6529844592667966', B_19='0.0085204395338161', D_66=None, B_20='0.0047298254668822', D_68='6.0', S_12='0.2720075971997457', R_6='0.0083625394520617', S_13='0.5152220997956324', B_21='0.0026440261651032', D_69='0.0090132990688123', B_22='0.0048075108615107', D_70='0.0083417214056279', D_71='0.1194032063292035', D_72='0.0048019001810845', S_15='0.1082711171267683', B_23='0.0508818502912816', D_73=None, P_4='0.0075544326681996', D_74='0.080421566162112', D_75='0.0690667888767042', D_76=None, B_24='0.0043267862651661', R_7='0.0075624451853513', D_77=None, B_25='0.0077286495261238', B_26='0.00027182797498275456', D_78='0.0015757362087887', D_79='0.0042393583697225', R_8='0.0014339887242707', R_9=None, S_16='0.0022709373260069', D_80='0.0040605235125132', R_10='0.0071210854061951', R_11='0.002456064794035', B_27='0.0023102973905819', D_81='0.0035319799108632', D_82='0.5066123435845971', S_17='0.0080330227771146', R_12='1.009824656823971', B_28='0.0846826103877939', R_13='0.0038199826554652', D_83='0.0070426005114811', R_14='0.00043795537736853184', R_15='0.0064516292630606', D_84='0.0008295199607458126', R_16='0.0050548740773288', B_29=None, B_30='0.0', S_18='0.0057204248912407', D_86='0.0070844713819911', D_87=None, R_17='0.0001983075573362836', R_18='0.0089074082880877', D_88=None, B_31='1', S_19='0.0025372094454532', R_19='0.0051773628715763', B_32='0.0066261799942368', S_20='0.0097051381766323', R_20='0.0077815946151323', R_21='0.0024499555060629', B_33='1.001101015728843', D_89='0.0026653338683884', R_22='0.0074787553627031', R_23='0.0068928102215877', D_91='1.5036730085591934', D_92='1.0061334814309375', D_93='0.0035685409054337', D_94='0.0088705929060406', R_24='0.0039497309957728', R_25='0.0036471404974304', D_96='0.0049500294348479', S_22='0.894089695605709', S_23='0.1355608144319887', S_24='0.911191467097734', S_25='0.9745386181290052', S_26='0.0012434034603863', D_102='0.766688198411884', D_103='1.0086908650957052', D_104='1.0045868810535166', D_105='0.8937341348828729', D_106=None, D_107='0.6700407818908409', B_36='0.0099684820571253', B_37='0.0045716082173905', R_26=None, R_27='1.0089487592265078', B_38='2.0', D_108=None, D_109='0.0043255295479554', D_110=None, D_111=None, B_39=None, D_112='1.0073363113714342', B_40='0.2100604304228718', S_27='0.6769221837463869', D_113='0.0078711392893406', D_114='1.0', D_115='0.2382502144880312', D_116='0.0', D_117='4.0', D_118='0.232119945685299', D_119='0.236265664141208', D_120='0.0', D_121='0.7022801580459578', D_122='0.4343448084924443', D_123='0.0030567005507437', D_124='0.68651647907618', D_125='0.0087397192234583', D_126='1.0', D_127='1.0033190016918123', D_128='1.007818575883756', D_129='1.0000799619453766', B_41='0.0068049737160723', B_42=None, D_130='0.0020516861203601', D_131='0.0059718815442907', D_132=None, D_133='0.0043450594318488', R_28='0.0015347274225173', D_134=None, D_135=None, D_136=None, D_137=None, D_138=None, D_139='0.0024270377979392', D_140='0.0037062723407666', D_141='0.0038178202065345', D_142=None, D_143='0.0005692395607335698', D_144='0.0006098370703087375', D_145='0.0026742140504133')]"
      ]
     },
     "execution_count": 16,
     "metadata": {},
     "output_type": "execute_result"
    }
   ],
   "source": [
    "train_df.head(1)"
   ]
  },
  {
   "cell_type": "code",
   "execution_count": 17,
   "id": "ce514626",
   "metadata": {
    "execution": {
     "iopub.execute_input": "2023-01-02T05:05:08.268112Z",
     "iopub.status.busy": "2023-01-02T05:05:08.266404Z",
     "iopub.status.idle": "2023-01-02T05:09:08.668662Z",
     "shell.execute_reply": "2023-01-02T05:09:08.665390Z"
    },
    "papermill": {
     "duration": 240.448355,
     "end_time": "2023-01-02T05:09:08.673125",
     "exception": false,
     "start_time": "2023-01-02T05:05:08.224770",
     "status": "completed"
    },
    "tags": []
   },
   "outputs": [
    {
     "name": "stderr",
     "output_type": "stream",
     "text": [
      "[Stage 19:=================================================>        (6 + 1) / 7]\r"
     ]
    },
    {
     "name": "stdout",
     "output_type": "stream",
     "text": [
      "+----------+------------------+\n",
      "|       S_2|count(customer_ID)|\n",
      "+----------+------------------+\n",
      "|2017-12-05|              9982|\n",
      "|2017-05-14|              8073|\n",
      "|2017-05-11|             12655|\n",
      "|2017-12-22|             14695|\n",
      "|2017-10-20|             17827|\n",
      "|2018-03-16|             16395|\n",
      "|2017-08-18|             14627|\n",
      "|2017-04-30|              9372|\n",
      "|2017-09-12|             14827|\n",
      "|2018-03-12|             15916|\n",
      "|2017-09-26|             14787|\n",
      "|2017-05-18|             13603|\n",
      "|2017-03-08|             13427|\n",
      "|2018-01-19|             15956|\n",
      "|2018-02-27|             18317|\n",
      "|2017-03-18|             18702|\n",
      "|2017-10-31|              9367|\n",
      "|2018-02-23|             16770|\n",
      "|2017-10-01|             10347|\n",
      "|2017-10-12|             14623|\n",
      "+----------+------------------+\n",
      "only showing top 20 rows\n",
      "\n"
     ]
    },
    {
     "name": "stderr",
     "output_type": "stream",
     "text": [
      "                                                                                \r"
     ]
    }
   ],
   "source": [
    "from pyspark.sql.functions import countDistinct\n",
    "plot_df=train_df.groupBy('S_2').agg(countDistinct('customer_ID')).show()"
   ]
  },
  {
   "cell_type": "code",
   "execution_count": 18,
   "id": "4ea23731",
   "metadata": {
    "execution": {
     "iopub.execute_input": "2023-01-02T05:09:08.832468Z",
     "iopub.status.busy": "2023-01-02T05:09:08.830549Z",
     "iopub.status.idle": "2023-01-02T05:09:08.952116Z",
     "shell.execute_reply": "2023-01-02T05:09:08.949788Z"
    },
    "papermill": {
     "duration": 0.212347,
     "end_time": "2023-01-02T05:09:08.961245",
     "exception": false,
     "start_time": "2023-01-02T05:09:08.748898",
     "status": "completed"
    },
    "tags": []
   },
   "outputs": [],
   "source": [
    "df = train_df.join(label_df, on='customer_ID',how='left')"
   ]
  },
  {
   "cell_type": "code",
   "execution_count": 19,
   "id": "2ff77a59",
   "metadata": {
    "execution": {
     "iopub.execute_input": "2023-01-02T05:09:09.140331Z",
     "iopub.status.busy": "2023-01-02T05:09:09.139876Z",
     "iopub.status.idle": "2023-01-02T05:20:53.410490Z",
     "shell.execute_reply": "2023-01-02T05:20:53.409135Z"
    },
    "papermill": {
     "duration": 704.343977,
     "end_time": "2023-01-02T05:20:53.414567",
     "exception": false,
     "start_time": "2023-01-02T05:09:09.070590",
     "status": "completed"
    },
    "tags": []
   },
   "outputs": [
    {
     "name": "stderr",
     "output_type": "stream",
     "text": [
      "                                                                                \r"
     ]
    },
    {
     "data": {
      "text/plain": [
       "[Row(customer_ID='ffdbfc624676e06b1b8c5b45c8ce5fd08e1aad96797b6dd04635dc6cd91d2b0b', S_2='2018-03-16', P_2='0.743797666788825', D_39='0.2123381265884293', B_1='0.0419089638299679', B_2='0.0095866243635731', R_1='0.0048279331176906', S_3='0.1083136934309505', D_41='0.0015338771906982', B_3='0.0351484778761323', D_42=None, D_43=None, D_44='0.0021818561536708', B_4='0.1225068711103822', D_45='0.3349585183486029', B_5='0.0198218905198147', R_2='0.0006003109163680031', D_46='0.4368980627457388', D_47='0.285187784438158', D_48='0.1444423101571554', D_49=None, B_6='0.0324974553203276', B_7='0.1777244915200438', B_8='0.0087818714748739', D_50=None, D_51='0.3375769143583987', B_9='0.0238344490760452', R_3='0.0054820029131505', D_52='0.1042329426376955', P_3='0.6288065423737685', B_10='0.0209910013414105', D_53=None, S_5='0.0395282428615153', B_11='0.019131981513097', S_6='0.0033296948253406', D_54='1.0079460031774763', R_4='0.0016728695303207', S_7='0.0653531967068053', B_12='0.0243481634591622', S_8='0.6033154262841692', D_55='0.1798075599863479', D_56='0.1663136708826453', B_13='0.0148992748045354', R_5='0.006980419964932', D_58='0.4636420464743246', S_9='0.0407892962158197', B_14='0.0209058561192841', D_59='0.4873284905498309', D_60='0.0713908091056365', D_61='0.1800612757454151', B_15='0.0067101559558814', S_11='0.2820857398379243', D_62='0.0097194401717512', D_63='CO', D_64=None, D_65='0.0024833553257975', B_16='0.9199494924101584', B_17='0.0071718353743674', B_18='0.4842174376249998', B_19='0.0040571048986052', D_66=None, B_20='0.6504954855609739', D_68=None, S_12='0.2477906850901066', R_6='0.0042306782732061', S_13='0.2838538863206202', B_21='0.0044351282109564', D_69='0.0019453569975288', B_22='0.0065801297743415', D_70='0.0033755248952443', D_71='0.006922168633405', D_72='0.0087938166127347', S_15='0.201227487745258', B_23='0.1509801369883168', D_73=None, P_4='0.0062053511703669', D_74='0.43471230735355', D_75='0.4717672742982965', D_76=None, B_24='0.0082001273576927', R_7='0.0085285823922032', D_77=None, B_25='0.035872954522284', B_26='0.0028724935128737', D_78='0.0097884445823695', D_79='0.0002644523223472295', R_8='0.0092081415776367', R_9=None, S_16='0.0007261610291095388', D_80='0.207650334595822', R_10='0.0071076466340675', R_11='0.00013726748575882964', B_27='0.0095110871020395', D_81='0.0038019344065976', D_82=None, S_17='0.0007955578781615324', R_12='1.002299328105437', B_28='0.0917890162465247', R_13='0.007902320790297', D_83='0.0029306076913613', R_14='0.0018325079701124', R_15='0.0064549788793269', D_84='0.0084033097997279', R_16='0.0034004072964388', B_29=None, B_30='0.0', S_18='0.0021401167170871', D_86='0.0070557871921081', D_87=None, R_17='0.0074007910974877', R_18='0.0042052567669099', D_88=None, B_31='1', S_19='0.0070265247996511', R_19='0.0039142065622956', B_32='0.0027698471294149', S_20='0.0049369782827066', R_20='0.0089021510606972', R_21='0.0037405239304521', B_33='0.0066370179269556', D_89='0.0079996394194792', R_22='0.0054659108518565', R_23='0.0054320013019453', D_91='0.00725232213391', D_92='0.0037996199669975', D_93='0.0063828982632846', D_94='0.006188295458328', R_24='0.0053794740858083', R_25='0.0066309236126963', D_96='0.0054381563861898', S_22='0.9634528112726302', S_23='0.1345022249326615', S_24='0.9607877234217572', S_25='0.970456433074328', S_26='0.0006981558992346737', D_102='0.4555697952292871', D_103='1.006122876974966', D_104='0.9556046580529736', D_105='0.7337721023353734', D_106=None, D_107='1.0050869954884316', B_36='0.0029282879847168', B_37='0.0426802282969504', R_26=None, R_27='1.0099396591315843', B_38='3.0', D_108=None, D_109='0.0084194161436508', D_110=None, D_111=None, B_39=None, D_112='0.0198715568074859', B_40='0.1399896224016397', S_27='0.0066821327933', D_113='0.0041262649000733', D_114='0.0', D_115='0.0076699599981537', D_116='0.0', D_117='-1.0', D_118='0.3826809963551458', D_119='0.3817557452005045', D_120='0.0', D_121='0.3269269256284172', D_122='0.0004750593662381375', D_123='0.0047557921145454', D_124='0.0013002590039261', D_125='0.0068840807564674', D_126='0.0', D_127='0.0014802944554982', D_128='0.0043769334803765', D_129='0.0030347375454515', B_41='0.0044175801781051', B_42=None, D_130='0.0097945488894384', D_131='0.0075914050180718', D_132=None, D_133='0.0097395869290895', R_28='0.0064611722742023', D_134=None, D_135=None, D_136=None, D_137=None, D_138=None, D_139='0.0011279245878474', D_140='0.0053631734392049', D_141='0.0068787486847469', D_142=None, D_143='0.0008970890428231926', D_144='0.0087643153286568', D_145='0.0067759212731741', target='0')]"
      ]
     },
     "execution_count": 19,
     "metadata": {},
     "output_type": "execute_result"
    }
   ],
   "source": [
    "df.tail(1)"
   ]
  },
  {
   "cell_type": "code",
   "execution_count": 20,
   "id": "6bc67b7f",
   "metadata": {
    "execution": {
     "iopub.execute_input": "2023-01-02T05:20:53.561123Z",
     "iopub.status.busy": "2023-01-02T05:20:53.560346Z",
     "iopub.status.idle": "2023-01-02T05:23:44.008167Z",
     "shell.execute_reply": "2023-01-02T05:23:44.006736Z"
    },
    "papermill": {
     "duration": 170.515589,
     "end_time": "2023-01-02T05:23:44.012762",
     "exception": false,
     "start_time": "2023-01-02T05:20:53.497173",
     "status": "completed"
    },
    "tags": []
   },
   "outputs": [
    {
     "name": "stderr",
     "output_type": "stream",
     "text": [
      "[Stage 32:>                                                         (0 + 1) / 1]\r"
     ]
    },
    {
     "name": "stdout",
     "output_type": "stream",
     "text": [
      "+------+-------+\n",
      "|target|  count|\n",
      "+------+-------+\n",
      "|     0|4153582|\n",
      "|     1|1377869|\n",
      "+------+-------+\n",
      "\n"
     ]
    },
    {
     "name": "stderr",
     "output_type": "stream",
     "text": [
      "                                                                                \r"
     ]
    }
   ],
   "source": [
    "df.groupby('target').count().show()"
   ]
  },
  {
   "cell_type": "code",
   "execution_count": 21,
   "id": "6eab1d71",
   "metadata": {
    "execution": {
     "iopub.execute_input": "2023-01-02T05:23:44.193627Z",
     "iopub.status.busy": "2023-01-02T05:23:44.193193Z",
     "iopub.status.idle": "2023-01-02T05:23:44.803092Z",
     "shell.execute_reply": "2023-01-02T05:23:44.801680Z"
    },
    "papermill": {
     "duration": 0.687495,
     "end_time": "2023-01-02T05:23:44.806356",
     "exception": false,
     "start_time": "2023-01-02T05:23:44.118861",
     "status": "completed"
    },
    "tags": []
   },
   "outputs": [],
   "source": [
    "import pyspark.pandas as ps\n",
    "from pyspark import StorageLevel\n",
    "from pyspark.sql import SparkSession, types\n",
    "from pyspark.sql import functions as F\n",
    "from pyspark.ml.feature import OneHotEncoder, StringIndexer, VectorAssembler\n",
    "from pyspark.ml import Pipeline\n",
    "from pyspark.ml.classification import LogisticRegression"
   ]
  },
  {
   "cell_type": "code",
   "execution_count": 22,
   "id": "d4cea8fc",
   "metadata": {
    "execution": {
     "iopub.execute_input": "2023-01-02T05:23:44.933300Z",
     "iopub.status.busy": "2023-01-02T05:23:44.932393Z",
     "iopub.status.idle": "2023-01-02T05:23:44.969475Z",
     "shell.execute_reply": "2023-01-02T05:23:44.968257Z"
    },
    "papermill": {
     "duration": 0.103741,
     "end_time": "2023-01-02T05:23:44.972329",
     "exception": false,
     "start_time": "2023-01-02T05:23:44.868588",
     "status": "completed"
    },
    "tags": []
   },
   "outputs": [
    {
     "name": "stdout",
     "output_type": "stream",
     "text": [
      "== Physical Plan ==\n",
      "FileScan csv [customer_ID#17] Batched: false, DataFilters: [], Format: CSV, Location: InMemoryFileIndex(1 paths)[file:/kaggle/input/amex-default-prediction/train_data.csv], PartitionFilters: [], PushedFilters: [], ReadSchema: struct<customer_ID:string>\n",
      "\n",
      "\n"
     ]
    }
   ],
   "source": [
    "train_df.select(\"customer_ID\").explain() "
   ]
  },
  {
   "cell_type": "code",
   "execution_count": 23,
   "id": "392d81ae",
   "metadata": {
    "execution": {
     "iopub.execute_input": "2023-01-02T05:23:45.100040Z",
     "iopub.status.busy": "2023-01-02T05:23:45.099528Z",
     "iopub.status.idle": "2023-01-02T05:23:45.105936Z",
     "shell.execute_reply": "2023-01-02T05:23:45.104698Z"
    },
    "papermill": {
     "duration": 0.073634,
     "end_time": "2023-01-02T05:23:45.108633",
     "exception": false,
     "start_time": "2023-01-02T05:23:45.034999",
     "status": "completed"
    },
    "tags": []
   },
   "outputs": [],
   "source": [
    "def get_null_count(sql_df, colname):\n",
    "    count = (sql_df.select(colname)\n",
    "                   .filter(F.col(colname).isNull())\n",
    "                   .count())\n",
    "    return count"
   ]
  },
  {
   "cell_type": "code",
   "execution_count": 24,
   "id": "c2f21afe",
   "metadata": {
    "execution": {
     "iopub.execute_input": "2023-01-02T05:23:45.235513Z",
     "iopub.status.busy": "2023-01-02T05:23:45.235082Z",
     "iopub.status.idle": "2023-01-02T05:35:27.066538Z",
     "shell.execute_reply": "2023-01-02T05:35:27.063809Z"
    },
    "papermill": {
     "duration": 701.898713,
     "end_time": "2023-01-02T05:35:27.069639",
     "exception": false,
     "start_time": "2023-01-02T05:23:45.170926",
     "status": "completed"
    },
    "tags": []
   },
   "outputs": [
    {
     "name": "stderr",
     "output_type": "stream",
     "text": [
      "[Stage 40:=====================================================>(251 + 1) / 253]\r"
     ]
    },
    {
     "name": "stdout",
     "output_type": "stream",
     "text": [
      "Missing customer_ID: 0\n"
     ]
    },
    {
     "name": "stderr",
     "output_type": "stream",
     "text": [
      "                                                                                \r"
     ]
    }
   ],
   "source": [
    "missing_customer_train = get_null_count(train_df, \"customer_ID\") \n",
    "missing_customer_test = get_null_count(test_df, \"customer_ID\")\n",
    "\n",
    "total_miss = missing_customer_train + missing_customer_test\n",
    "print(f\"Missing customer_ID: {total_miss}\")"
   ]
  },
  {
   "cell_type": "code",
   "execution_count": 25,
   "id": "bf4bc996",
   "metadata": {
    "execution": {
     "iopub.execute_input": "2023-01-02T05:35:27.243539Z",
     "iopub.status.busy": "2023-01-02T05:35:27.243032Z",
     "iopub.status.idle": "2023-01-02T05:35:27.250319Z",
     "shell.execute_reply": "2023-01-02T05:35:27.248928Z"
    },
    "papermill": {
     "duration": 0.097814,
     "end_time": "2023-01-02T05:35:27.252766",
     "exception": false,
     "start_time": "2023-01-02T05:35:27.154952",
     "status": "completed"
    },
    "tags": []
   },
   "outputs": [],
   "source": [
    "def add_suffix(names, suffix):\n",
    "    return [name + suffix for name in names]"
   ]
  },
  {
   "cell_type": "code",
   "execution_count": 26,
   "id": "c2d9ac20",
   "metadata": {
    "execution": {
     "iopub.execute_input": "2023-01-02T05:35:27.426342Z",
     "iopub.status.busy": "2023-01-02T05:35:27.425266Z",
     "iopub.status.idle": "2023-01-02T05:35:27.435105Z",
     "shell.execute_reply": "2023-01-02T05:35:27.433584Z"
    },
    "papermill": {
     "duration": 0.098215,
     "end_time": "2023-01-02T05:35:27.437572",
     "exception": false,
     "start_time": "2023-01-02T05:35:27.339357",
     "status": "completed"
    },
    "tags": []
   },
   "outputs": [
    {
     "name": "stdout",
     "output_type": "stream",
     "text": [
      "Number of categoric cols: 11\n",
      "Number of numeric cols: 177\n"
     ]
    }
   ],
   "source": [
    "info_cols = ['customer_ID', 'S_2']\n",
    "target_cols = ['target']\n",
    "cat_cols = [\n",
    "    'B_30', 'B_38', \n",
    "    'D_114', 'D_116', 'D_117', 'D_120', 'D_126', 'D_63', 'D_64', 'D_66', 'D_68']\n",
    "\n",
    "\n",
    "# Define Numeric Columns\n",
    "excluded = info_cols + cat_cols\n",
    "num_cols = [col for col in train_df.columns if col not in excluded]\n",
    "\n",
    "# Define Feature Columns\n",
    "features_cols =  cat_cols + num_cols\n",
    "\n",
    "print(f\"Number of categoric cols: {len(cat_cols)}\")\n",
    "print(f\"Number of numeric cols: {len(num_cols)}\")"
   ]
  },
  {
   "cell_type": "code",
   "execution_count": 27,
   "id": "537bbf41",
   "metadata": {
    "execution": {
     "iopub.execute_input": "2023-01-02T05:35:27.611390Z",
     "iopub.status.busy": "2023-01-02T05:35:27.610046Z",
     "iopub.status.idle": "2023-01-02T05:35:27.617151Z",
     "shell.execute_reply": "2023-01-02T05:35:27.615645Z"
    },
    "papermill": {
     "duration": 0.096762,
     "end_time": "2023-01-02T05:35:27.619974",
     "exception": false,
     "start_time": "2023-01-02T05:35:27.523212",
     "status": "completed"
    },
    "tags": []
   },
   "outputs": [
    {
     "name": "stdout",
     "output_type": "stream",
     "text": [
      "['target']\n"
     ]
    }
   ],
   "source": [
    "print(target_cols)"
   ]
  },
  {
   "cell_type": "code",
   "execution_count": 28,
   "id": "a947ada1",
   "metadata": {
    "execution": {
     "iopub.execute_input": "2023-01-02T05:35:27.793205Z",
     "iopub.status.busy": "2023-01-02T05:35:27.791963Z",
     "iopub.status.idle": "2023-01-02T05:35:28.067924Z",
     "shell.execute_reply": "2023-01-02T05:35:28.066931Z"
    },
    "papermill": {
     "duration": 0.365,
     "end_time": "2023-01-02T05:35:28.070717",
     "exception": false,
     "start_time": "2023-01-02T05:35:27.705717",
     "status": "completed"
    },
    "tags": []
   },
   "outputs": [],
   "source": [
    "train_df = (train_df.fillna(0, subset=num_cols)\n",
    "                    .fillna(\"null\", subset=cat_cols))\n",
    "\n",
    "test_df = (test_df.fillna(0, subset=num_cols)\n",
    "                  .fillna(\"null\", subset=cat_cols))"
   ]
  },
  {
   "cell_type": "code",
   "execution_count": 29,
   "id": "62f0d761",
   "metadata": {
    "execution": {
     "iopub.execute_input": "2023-01-02T05:35:28.243430Z",
     "iopub.status.busy": "2023-01-02T05:35:28.243020Z",
     "iopub.status.idle": "2023-01-02T05:37:35.563935Z",
     "shell.execute_reply": "2023-01-02T05:37:35.562595Z"
    },
    "papermill": {
     "duration": 127.411231,
     "end_time": "2023-01-02T05:37:35.567497",
     "exception": false,
     "start_time": "2023-01-02T05:35:28.156266",
     "status": "completed"
    },
    "tags": []
   },
   "outputs": [
    {
     "name": "stderr",
     "output_type": "stream",
     "text": [
      "                                                                                \r"
     ]
    }
   ],
   "source": [
    "# Create columns aliases\n",
    "cat_index_cols = add_suffix(cat_cols, \"_index\")\n",
    "\n",
    "# Fit StringIndexer\n",
    "indexers = StringIndexer(inputCols=cat_cols, outputCols=cat_index_cols)\n",
    "indexers_model = indexers.fit(train_df)\n",
    "\n",
    "# Transform to data\n",
    "train_df_indexed = indexers_model.transform(train_df)\n",
    "test_df_indexed = indexers_model.transform(test_df)"
   ]
  },
  {
   "cell_type": "code",
   "execution_count": 30,
   "id": "2b495325",
   "metadata": {
    "execution": {
     "iopub.execute_input": "2023-01-02T05:37:35.786534Z",
     "iopub.status.busy": "2023-01-02T05:37:35.786109Z",
     "iopub.status.idle": "2023-01-02T05:39:12.544548Z",
     "shell.execute_reply": "2023-01-02T05:39:12.543117Z"
    },
    "papermill": {
     "duration": 96.85689,
     "end_time": "2023-01-02T05:39:12.548871",
     "exception": false,
     "start_time": "2023-01-02T05:37:35.691981",
     "status": "completed"
    },
    "tags": []
   },
   "outputs": [
    {
     "name": "stderr",
     "output_type": "stream",
     "text": [
      "                                                                                \r"
     ]
    }
   ],
   "source": [
    "# Create columns aliases\n",
    "cat_index_cols = add_suffix(cat_cols, \"_index\")\n",
    "\n",
    "# Fit StringIndexer\n",
    "indexers = StringIndexer(inputCols=cat_cols, outputCols=cat_index_cols)\n",
    "indexers_model = indexers.fit(train_df)\n",
    "\n",
    "# Transform to data\n",
    "train_df_indexed = indexers_model.transform(train_df)\n",
    "test_df_indexed = indexers_model.transform(test_df)"
   ]
  },
  {
   "cell_type": "code",
   "execution_count": 31,
   "id": "11fddc04",
   "metadata": {
    "execution": {
     "iopub.execute_input": "2023-01-02T05:39:12.850177Z",
     "iopub.status.busy": "2023-01-02T05:39:12.849736Z",
     "iopub.status.idle": "2023-01-02T05:39:13.045817Z",
     "shell.execute_reply": "2023-01-02T05:39:13.044894Z"
    },
    "papermill": {
     "duration": 0.302542,
     "end_time": "2023-01-02T05:39:13.049916",
     "exception": false,
     "start_time": "2023-01-02T05:39:12.747374",
     "status": "completed"
    },
    "tags": []
   },
   "outputs": [
    {
     "name": "stdout",
     "output_type": "stream",
     "text": [
      "+----------+\n",
      "|B_30_index|\n",
      "+----------+\n",
      "|       0.0|\n",
      "|       0.0|\n",
      "|       0.0|\n",
      "|       0.0|\n",
      "|       0.0|\n",
      "+----------+\n",
      "only showing top 5 rows\n",
      "\n"
     ]
    }
   ],
   "source": [
    "# See what columns the indexer handle\n",
    "indexers.getInputCols()\n",
    "\n",
    "# See the indexed columns\n",
    "train_df_indexed.select(\"B_30_index\").show(5)"
   ]
  },
  {
   "cell_type": "code",
   "execution_count": 32,
   "id": "d49516f8",
   "metadata": {
    "execution": {
     "iopub.execute_input": "2023-01-02T05:39:13.254734Z",
     "iopub.status.busy": "2023-01-02T05:39:13.254029Z",
     "iopub.status.idle": "2023-01-02T05:39:13.664447Z",
     "shell.execute_reply": "2023-01-02T05:39:13.662903Z"
    },
    "papermill": {
     "duration": 0.516714,
     "end_time": "2023-01-02T05:39:13.668493",
     "exception": false,
     "start_time": "2023-01-02T05:39:13.151779",
     "status": "completed"
    },
    "tags": []
   },
   "outputs": [],
   "source": [
    "# Create columns aliases\n",
    "cat_ohe_cols = add_suffix(cat_cols, \"_ohe\")\n",
    "\n",
    "# Fit OneHotEncoder\n",
    "ohe = OneHotEncoder(inputCols=cat_index_cols, outputCols=cat_ohe_cols)\n",
    "ohe_model = ohe.fit(train_df_indexed)\n",
    "\n",
    "# Transform to data\n",
    "train_df_ohed = ohe_model.transform(train_df_indexed)\n",
    "test_df_ohed = ohe_model.transform(test_df_indexed)"
   ]
  },
  {
   "cell_type": "code",
   "execution_count": 33,
   "id": "acff9dee",
   "metadata": {
    "execution": {
     "iopub.execute_input": "2023-01-02T05:39:13.875622Z",
     "iopub.status.busy": "2023-01-02T05:39:13.875199Z",
     "iopub.status.idle": "2023-01-02T05:39:14.207808Z",
     "shell.execute_reply": "2023-01-02T05:39:14.205864Z"
    },
    "papermill": {
     "duration": 0.440821,
     "end_time": "2023-01-02T05:39:14.211857",
     "exception": false,
     "start_time": "2023-01-02T05:39:13.771036",
     "status": "completed"
    },
    "tags": []
   },
   "outputs": [
    {
     "name": "stdout",
     "output_type": "stream",
     "text": [
      "+-------------+\n",
      "|     B_30_ohe|\n",
      "+-------------+\n",
      "|(3,[0],[1.0])|\n",
      "|(3,[0],[1.0])|\n",
      "|(3,[0],[1.0])|\n",
      "|(3,[0],[1.0])|\n",
      "|(3,[0],[1.0])|\n",
      "+-------------+\n",
      "only showing top 5 rows\n",
      "\n"
     ]
    }
   ],
   "source": [
    "train_df_ohed.select(\"B_30_ohe\").show(5)"
   ]
  },
  {
   "cell_type": "code",
   "execution_count": 34,
   "id": "7de51a66",
   "metadata": {
    "execution": {
     "iopub.execute_input": "2023-01-02T05:39:14.424411Z",
     "iopub.status.busy": "2023-01-02T05:39:14.423999Z",
     "iopub.status.idle": "2023-01-02T05:39:14.430954Z",
     "shell.execute_reply": "2023-01-02T05:39:14.429703Z"
    },
    "papermill": {
     "duration": 0.111743,
     "end_time": "2023-01-02T05:39:14.433539",
     "exception": false,
     "start_time": "2023-01-02T05:39:14.321796",
     "status": "completed"
    },
    "tags": []
   },
   "outputs": [],
   "source": [
    "# Functions for each type\n",
    "# each tuple consist of: (function, column's suffix)\n",
    "num_funcs = [\n",
    "    (F.mean, \"_mean\"),\n",
    "    (F.stddev, \"_std\"),\n",
    "    (F.min, \"_min\"),\n",
    "    (F.max, \"_max\"),\n",
    "]\n",
    "\n",
    "cat_funcs = [\n",
    "    (F.count, \"_count\"),\n",
    "    (F.last, \"_last\"),\n",
    "    (F.countDistinct, \"_nunique\"),\n",
    "]"
   ]
  },
  {
   "cell_type": "code",
   "execution_count": 35,
   "id": "4e39cf07",
   "metadata": {
    "execution": {
     "iopub.execute_input": "2023-01-02T05:39:14.658893Z",
     "iopub.status.busy": "2023-01-02T05:39:14.658410Z",
     "iopub.status.idle": "2023-01-02T05:39:16.780047Z",
     "shell.execute_reply": "2023-01-02T05:39:16.778998Z"
    },
    "papermill": {
     "duration": 2.246279,
     "end_time": "2023-01-02T05:39:16.783164",
     "exception": false,
     "start_time": "2023-01-02T05:39:14.536885",
     "status": "completed"
    },
    "tags": []
   },
   "outputs": [
    {
     "data": {
      "text/plain": [
       "Column<'avg(P_2) AS P_2_mean'>"
      ]
     },
     "execution_count": 35,
     "metadata": {},
     "output_type": "execute_result"
    }
   ],
   "source": [
    "# Arguments for .agg method\n",
    "# each arg consist of: func(colname).alias(colname + suffix)\n",
    "import itertools\n",
    "agg_num_args = [\n",
    "    func(col).alias(col + suffix) \n",
    "    for col, (func, suffix) in itertools.product(num_cols, num_funcs)]\n",
    "\n",
    "agg_cols_args = [\n",
    "    func(col).alias(col + suffix) \n",
    "    for col, (func, suffix) in itertools.product(cat_ohe_cols, cat_funcs)]\n",
    "\n",
    "# Combine numeric and categoric agg arguments\n",
    "agg_args = agg_num_args + agg_cols_args\n",
    "agg_args[0]"
   ]
  },
  {
   "cell_type": "code",
   "execution_count": 36,
   "id": "9b99b38d",
   "metadata": {
    "execution": {
     "iopub.execute_input": "2023-01-02T05:39:16.991667Z",
     "iopub.status.busy": "2023-01-02T05:39:16.991246Z",
     "iopub.status.idle": "2023-01-02T05:39:16.997051Z",
     "shell.execute_reply": "2023-01-02T05:39:16.995911Z"
    },
    "papermill": {
     "duration": 0.109551,
     "end_time": "2023-01-02T05:39:16.999560",
     "exception": false,
     "start_time": "2023-01-02T05:39:16.890009",
     "status": "completed"
    },
    "tags": []
   },
   "outputs": [
    {
     "name": "stdout",
     "output_type": "stream",
     "text": [
      "Unused columns 210\n"
     ]
    }
   ],
   "source": [
    "# Columns that we won't use\n",
    "unused_cols = cat_cols + num_cols + cat_index_cols + cat_ohe_cols\n",
    "print(f\"Unused columns {len(unused_cols)}\")"
   ]
  },
  {
   "cell_type": "code",
   "execution_count": 37,
   "id": "e7736c68",
   "metadata": {
    "execution": {
     "iopub.execute_input": "2023-01-02T05:39:17.202659Z",
     "iopub.status.busy": "2023-01-02T05:39:17.201758Z",
     "iopub.status.idle": "2023-01-02T05:39:17.413042Z",
     "shell.execute_reply": "2023-01-02T05:39:17.411709Z"
    },
    "papermill": {
     "duration": 0.316489,
     "end_time": "2023-01-02T05:39:17.415782",
     "exception": false,
     "start_time": "2023-01-02T05:39:17.099293",
     "status": "completed"
    },
    "tags": []
   },
   "outputs": [],
   "source": [
    "# Apply the agg while also dropping unused columns\n",
    "train_df_grouped = (train_df_ohed.groupBy(\"customer_ID\")\n",
    "                                 .agg(*agg_cols_args)\n",
    "                                 .drop(*unused_cols))\n",
    "\n",
    "test_df_grouped = (test_df_ohed.groupBy(\"customer_ID\")\n",
    "                                .agg(*agg_cols_args)\n",
    "                                .drop(*unused_cols))"
   ]
  },
  {
   "cell_type": "code",
   "execution_count": 38,
   "id": "6f8be5ee",
   "metadata": {
    "execution": {
     "iopub.execute_input": "2023-01-02T05:39:17.618286Z",
     "iopub.status.busy": "2023-01-02T05:39:17.617498Z",
     "iopub.status.idle": "2023-01-02T05:39:17.648900Z",
     "shell.execute_reply": "2023-01-02T05:39:17.647920Z"
    },
    "papermill": {
     "duration": 0.13574,
     "end_time": "2023-01-02T05:39:17.652132",
     "exception": false,
     "start_time": "2023-01-02T05:39:17.516392",
     "status": "completed"
    },
    "tags": []
   },
   "outputs": [],
   "source": [
    "train_joined_df = train_df_grouped.join(F.broadcast(label_df), on=\"customer_ID\")"
   ]
  },
  {
   "cell_type": "code",
   "execution_count": 39,
   "id": "31e3956c",
   "metadata": {
    "execution": {
     "iopub.execute_input": "2023-01-02T05:39:17.860854Z",
     "iopub.status.busy": "2023-01-02T05:39:17.860452Z",
     "iopub.status.idle": "2023-01-02T05:46:15.164881Z",
     "shell.execute_reply": "2023-01-02T05:46:15.163558Z"
    },
    "papermill": {
     "duration": 417.410935,
     "end_time": "2023-01-02T05:46:15.168357",
     "exception": false,
     "start_time": "2023-01-02T05:39:17.757422",
     "status": "completed"
    },
    "tags": []
   },
   "outputs": [
    {
     "name": "stderr",
     "output_type": "stream",
     "text": [
      "                                                                                \r"
     ]
    },
    {
     "data": {
      "text/plain": [
       "[Row(customer_ID='000084e5023181993c2e1b665ac88dbb1ce9ef621ec5370150fc2f8bdca6202c', B_30_ohe_count=13, B_30_ohe_last=SparseVector(3, {0: 1.0}), B_30_ohe_nunique=1, B_38_ohe_count=13, B_38_ohe_last=SparseVector(7, {0: 1.0}), B_38_ohe_nunique=2, D_114_ohe_count=13, D_114_ohe_last=SparseVector(2, {0: 1.0}), D_114_ohe_nunique=1, D_116_ohe_count=13, D_116_ohe_last=SparseVector(2, {0: 1.0}), D_116_ohe_nunique=1, D_117_ohe_count=13, D_117_ohe_last=SparseVector(7, {}), D_117_ohe_nunique=2, D_120_ohe_count=13, D_120_ohe_last=SparseVector(2, {0: 1.0}), D_120_ohe_nunique=1, D_126_ohe_count=13, D_126_ohe_last=SparseVector(3, {0: 1.0}), D_126_ohe_nunique=1, D_63_ohe_count=13, D_63_ohe_last=SparseVector(5, {0: 1.0}), D_63_ohe_nunique=1, D_64_ohe_count=13, D_64_ohe_last=SparseVector(4, {2: 1.0}), D_64_ohe_nunique=1, D_66_ohe_count=13, D_66_ohe_last=SparseVector(2, {0: 1.0}), D_66_ohe_nunique=1, D_68_ohe_count=13, D_68_ohe_last=SparseVector(7, {0: 1.0}), D_68_ohe_nunique=1, target='0')]"
      ]
     },
     "execution_count": 39,
     "metadata": {},
     "output_type": "execute_result"
    }
   ],
   "source": [
    "train_joined_df.head(1)"
   ]
  },
  {
   "cell_type": "code",
   "execution_count": 40,
   "id": "49a4e6a9",
   "metadata": {
    "execution": {
     "iopub.execute_input": "2023-01-02T05:46:15.466921Z",
     "iopub.status.busy": "2023-01-02T05:46:15.466350Z",
     "iopub.status.idle": "2023-01-02T05:46:15.476873Z",
     "shell.execute_reply": "2023-01-02T05:46:15.475354Z"
    },
    "papermill": {
     "duration": 0.137438,
     "end_time": "2023-01-02T05:46:15.479151",
     "exception": false,
     "start_time": "2023-01-02T05:46:15.341713",
     "status": "completed"
    },
    "tags": []
   },
   "outputs": [
    {
     "name": "stdout",
     "output_type": "stream",
     "text": [
      "Total features: 35\n"
     ]
    }
   ],
   "source": [
    "dim = len(train_joined_df.columns)\n",
    "print(f\"Total features: {dim}\")"
   ]
  },
  {
   "cell_type": "code",
   "execution_count": 41,
   "id": "7c052d22",
   "metadata": {
    "execution": {
     "iopub.execute_input": "2023-01-02T05:46:15.713640Z",
     "iopub.status.busy": "2023-01-02T05:46:15.713198Z",
     "iopub.status.idle": "2023-01-02T05:58:42.511200Z",
     "shell.execute_reply": "2023-01-02T05:58:42.509716Z"
    },
    "papermill": {
     "duration": 746.917914,
     "end_time": "2023-01-02T05:58:42.514223",
     "exception": false,
     "start_time": "2023-01-02T05:46:15.596309",
     "status": "completed"
    },
    "tags": []
   },
   "outputs": [
    {
     "name": "stderr",
     "output_type": "stream",
     "text": [
      "                                                                                \r"
     ]
    }
   ],
   "source": [
    "va = VectorAssembler(\n",
    "    inputCols=train_joined_df.drop(\"customer_ID\", \"target\").columns,\n",
    "    outputCol=\"features\",\n",
    "    handleInvalid=\"error\",\n",
    ")\n",
    "\n",
    "train_ready_df = (va.transform(train_joined_df)\n",
    "                    .select([\"customer_ID\", \"features\", \"target\"])\n",
    "                    .persist(StorageLevel.DISK_ONLY))\n",
    "\n",
    "test_ready_df = (va.transform(test_df_grouped)\n",
    "                   .select([\"customer_ID\", \"features\"])\n",
    "                   .persist(StorageLevel.DISK_ONLY))"
   ]
  },
  {
   "cell_type": "code",
   "execution_count": 42,
   "id": "20e12417",
   "metadata": {
    "execution": {
     "iopub.execute_input": "2023-01-02T05:58:42.794127Z",
     "iopub.status.busy": "2023-01-02T05:58:42.793676Z",
     "iopub.status.idle": "2023-01-02T06:09:24.519416Z",
     "shell.execute_reply": "2023-01-02T06:09:24.517729Z"
    },
    "papermill": {
     "duration": 641.866032,
     "end_time": "2023-01-02T06:09:24.524430",
     "exception": false,
     "start_time": "2023-01-02T05:58:42.658398",
     "status": "completed"
    },
    "tags": []
   },
   "outputs": [
    {
     "name": "stderr",
     "output_type": "stream",
     "text": [
      "                                                                                \r"
     ]
    },
    {
     "data": {
      "text/plain": [
       "[Row(customer_ID='0012e41fe6caa3ba31b55b3de2030cbb77b01203aeb4a5c6677de5b80f15cebe', features=SparseVector(66, {0: 10.0, 1: 1.0, 4: 1.0, 5: 10.0, 8: 1.0, 13: 1.0, 14: 10.0, 15: 1.0, 17: 2.0, 18: 10.0, 19: 1.0, 21: 2.0, 22: 10.0, 26: 1.0, 30: 2.0, 31: 10.0, 33: 1.0, 34: 2.0, 35: 10.0, 37: 1.0, 39: 2.0, 40: 10.0, 41: 1.0, 46: 1.0, 47: 10.0, 48: 1.0, 52: 2.0, 53: 10.0, 54: 1.0, 56: 1.0, 57: 10.0, 61: 1.0, 65: 2.0}), target='0')]"
      ]
     },
     "execution_count": 42,
     "metadata": {},
     "output_type": "execute_result"
    }
   ],
   "source": [
    "train_ready_df.head(1)"
   ]
  },
  {
   "cell_type": "code",
   "execution_count": 43,
   "id": "bd838ab7",
   "metadata": {
    "execution": {
     "iopub.execute_input": "2023-01-02T06:09:24.865750Z",
     "iopub.status.busy": "2023-01-02T06:09:24.865264Z",
     "iopub.status.idle": "2023-01-02T06:09:24.873470Z",
     "shell.execute_reply": "2023-01-02T06:09:24.872529Z"
    },
    "papermill": {
     "duration": 0.169022,
     "end_time": "2023-01-02T06:09:24.875969",
     "exception": false,
     "start_time": "2023-01-02T06:09:24.706947",
     "status": "completed"
    },
    "tags": []
   },
   "outputs": [
    {
     "name": "stdout",
     "output_type": "stream",
     "text": [
      "StringType()\n"
     ]
    }
   ],
   "source": [
    "print(train_ready_df.schema['target'].dataType)"
   ]
  },
  {
   "cell_type": "code",
   "execution_count": 44,
   "id": "d4fa4dac",
   "metadata": {
    "execution": {
     "iopub.execute_input": "2023-01-02T06:09:25.214008Z",
     "iopub.status.busy": "2023-01-02T06:09:25.212819Z",
     "iopub.status.idle": "2023-01-02T06:09:25.270919Z",
     "shell.execute_reply": "2023-01-02T06:09:25.269816Z"
    },
    "papermill": {
     "duration": 0.239274,
     "end_time": "2023-01-02T06:09:25.273692",
     "exception": false,
     "start_time": "2023-01-02T06:09:25.034418",
     "status": "completed"
    },
    "tags": []
   },
   "outputs": [],
   "source": [
    "from pyspark.sql.types import IntegerType\n",
    "train_ready_df = train_ready_df.withColumn(\"target\", train_ready_df[\"target\"].cast(IntegerType()))"
   ]
  },
  {
   "cell_type": "code",
   "execution_count": 45,
   "id": "9ee80d5e",
   "metadata": {
    "execution": {
     "iopub.execute_input": "2023-01-02T06:09:25.593799Z",
     "iopub.status.busy": "2023-01-02T06:09:25.592941Z",
     "iopub.status.idle": "2023-01-02T06:15:30.892856Z",
     "shell.execute_reply": "2023-01-02T06:15:30.891508Z"
    },
    "papermill": {
     "duration": 365.460612,
     "end_time": "2023-01-02T06:15:30.896576",
     "exception": false,
     "start_time": "2023-01-02T06:09:25.435964",
     "status": "completed"
    },
    "tags": []
   },
   "outputs": [
    {
     "name": "stderr",
     "output_type": "stream",
     "text": [
      "                                                                                \r"
     ]
    }
   ],
   "source": [
    "logres = LogisticRegression(featuresCol=\"features\", labelCol=\"target\")\n",
    "logres_model = logres.fit(train_ready_df)"
   ]
  },
  {
   "cell_type": "code",
   "execution_count": 46,
   "id": "9a022be2",
   "metadata": {
    "execution": {
     "iopub.execute_input": "2023-01-02T06:15:31.322652Z",
     "iopub.status.busy": "2023-01-02T06:15:31.321223Z",
     "iopub.status.idle": "2023-01-02T06:15:31.400518Z",
     "shell.execute_reply": "2023-01-02T06:15:31.399192Z"
    },
    "papermill": {
     "duration": 0.293335,
     "end_time": "2023-01-02T06:15:31.403852",
     "exception": false,
     "start_time": "2023-01-02T06:15:31.110517",
     "status": "completed"
    },
    "tags": []
   },
   "outputs": [
    {
     "data": {
      "text/plain": [
       "DataFrame[customer_ID: string, features: vector, rawPrediction: vector, probability: vector, prediction: double]"
      ]
     },
     "execution_count": 46,
     "metadata": {},
     "output_type": "execute_result"
    }
   ],
   "source": [
    "test_predictions = logres_model.transform(test_ready_df)\n",
    "test_predictions"
   ]
  },
  {
   "cell_type": "code",
   "execution_count": 47,
   "id": "63fe4671",
   "metadata": {
    "execution": {
     "iopub.execute_input": "2023-01-02T06:15:31.827238Z",
     "iopub.status.busy": "2023-01-02T06:15:31.825867Z",
     "iopub.status.idle": "2023-01-02T06:34:54.684717Z",
     "shell.execute_reply": "2023-01-02T06:34:54.683588Z"
    },
    "papermill": {
     "duration": 1163.073136,
     "end_time": "2023-01-02T06:34:54.687421",
     "exception": false,
     "start_time": "2023-01-02T06:15:31.614285",
     "status": "completed"
    },
    "tags": []
   },
   "outputs": [
    {
     "name": "stderr",
     "output_type": "stream",
     "text": [
      "                                                                                \r"
     ]
    }
   ],
   "source": [
    "submission = (test_predictions.select([\"customer_ID\", \"probability\"])\n",
    "                              .toPandas())"
   ]
  },
  {
   "cell_type": "code",
   "execution_count": 48,
   "id": "378c9bee",
   "metadata": {
    "execution": {
     "iopub.execute_input": "2023-01-02T06:34:55.176761Z",
     "iopub.status.busy": "2023-01-02T06:34:55.175507Z",
     "iopub.status.idle": "2023-01-02T06:34:59.429469Z",
     "shell.execute_reply": "2023-01-02T06:34:59.428249Z"
    },
    "papermill": {
     "duration": 4.501764,
     "end_time": "2023-01-02T06:34:59.432578",
     "exception": false,
     "start_time": "2023-01-02T06:34:54.930814",
     "status": "completed"
    },
    "tags": []
   },
   "outputs": [],
   "source": [
    "# Get probability of target 1\n",
    "submission[\"probability\"] = submission[\"probability\"].apply(lambda x: x[-1])\n",
    "\n",
    "# Rename columns\n",
    "submission = submission.rename(columns={\"probability\": \"prediction\"})\n",
    "\n",
    "# Save File\n",
    "submission.to_csv(\"submission.csv\", index=False)"
   ]
  },
  {
   "cell_type": "code",
   "execution_count": 49,
   "id": "becddca9",
   "metadata": {
    "execution": {
     "iopub.execute_input": "2023-01-02T06:34:59.924917Z",
     "iopub.status.busy": "2023-01-02T06:34:59.923798Z",
     "iopub.status.idle": "2023-01-02T06:35:01.086964Z",
     "shell.execute_reply": "2023-01-02T06:35:01.085833Z"
    },
    "papermill": {
     "duration": 1.410602,
     "end_time": "2023-01-02T06:35:01.089442",
     "exception": false,
     "start_time": "2023-01-02T06:34:59.678840",
     "status": "completed"
    },
    "tags": []
   },
   "outputs": [
    {
     "data": {
      "text/html": [
       "<div>\n",
       "<style scoped>\n",
       "    .dataframe tbody tr th:only-of-type {\n",
       "        vertical-align: middle;\n",
       "    }\n",
       "\n",
       "    .dataframe tbody tr th {\n",
       "        vertical-align: top;\n",
       "    }\n",
       "\n",
       "    .dataframe thead th {\n",
       "        text-align: right;\n",
       "    }\n",
       "</style>\n",
       "<table border=\"1\" class=\"dataframe\">\n",
       "  <thead>\n",
       "    <tr style=\"text-align: right;\">\n",
       "      <th></th>\n",
       "      <th>customer_ID</th>\n",
       "      <th>prediction</th>\n",
       "    </tr>\n",
       "  </thead>\n",
       "  <tbody>\n",
       "    <tr>\n",
       "      <th>0</th>\n",
       "      <td>00004ffe6e01e1b688170bbd108da8351bc4c316eacfef...</td>\n",
       "      <td>0.013636</td>\n",
       "    </tr>\n",
       "    <tr>\n",
       "      <th>1</th>\n",
       "      <td>00048ea2f1b75bb675a58fa26df939a0755f0331e04836...</td>\n",
       "      <td>0.549494</td>\n",
       "    </tr>\n",
       "    <tr>\n",
       "      <th>2</th>\n",
       "      <td>001d908c73a0ee3725921f865638747d28c5d338665675...</td>\n",
       "      <td>0.077047</td>\n",
       "    </tr>\n",
       "    <tr>\n",
       "      <th>3</th>\n",
       "      <td>0022f9fde71c6d3bc2a16f648c56a07cc0547c80a1428d...</td>\n",
       "      <td>0.508021</td>\n",
       "    </tr>\n",
       "    <tr>\n",
       "      <th>4</th>\n",
       "      <td>00323fa8e0aca38d4a75007282473d206ab8f5ac164c84...</td>\n",
       "      <td>0.735199</td>\n",
       "    </tr>\n",
       "  </tbody>\n",
       "</table>\n",
       "</div>"
      ],
      "text/plain": [
       "                                         customer_ID  prediction\n",
       "0  00004ffe6e01e1b688170bbd108da8351bc4c316eacfef...    0.013636\n",
       "1  00048ea2f1b75bb675a58fa26df939a0755f0331e04836...    0.549494\n",
       "2  001d908c73a0ee3725921f865638747d28c5d338665675...    0.077047\n",
       "3  0022f9fde71c6d3bc2a16f648c56a07cc0547c80a1428d...    0.508021\n",
       "4  00323fa8e0aca38d4a75007282473d206ab8f5ac164c84...    0.735199"
      ]
     },
     "execution_count": 49,
     "metadata": {},
     "output_type": "execute_result"
    }
   ],
   "source": [
    "pd.read_csv(\"submission.csv\").head()"
   ]
  },
  {
   "cell_type": "code",
   "execution_count": null,
   "id": "439822df",
   "metadata": {
    "papermill": {
     "duration": 0.245237,
     "end_time": "2023-01-02T06:35:01.576785",
     "exception": false,
     "start_time": "2023-01-02T06:35:01.331548",
     "status": "completed"
    },
    "tags": []
   },
   "outputs": [],
   "source": []
  }
 ],
 "metadata": {
  "kernelspec": {
   "display_name": "Python 3",
   "language": "python",
   "name": "python3"
  },
  "language_info": {
   "codemirror_mode": {
    "name": "ipython",
    "version": 3
   },
   "file_extension": ".py",
   "mimetype": "text/x-python",
   "name": "python",
   "nbconvert_exporter": "python",
   "pygments_lexer": "ipython3",
   "version": "3.7.12"
  },
  "papermill": {
   "default_parameters": {},
   "duration": 5770.065982,
   "end_time": "2023-01-02T06:35:04.456785",
   "environment_variables": {},
   "exception": null,
   "input_path": "__notebook__.ipynb",
   "output_path": "__notebook__.ipynb",
   "parameters": {},
   "start_time": "2023-01-02T04:58:54.390803",
   "version": "2.3.4"
  }
 },
 "nbformat": 4,
 "nbformat_minor": 5
}
